{
 "cells": [
  {
   "cell_type": "markdown",
   "id": "7a7953f5",
   "metadata": {},
   "source": [
    "# MINI PROJECT\n",
    "## Large Data Management (LDM)"
   ]
  },
  {
   "cell_type": "code",
   "execution_count": 3,
   "id": "08a11c1f",
   "metadata": {},
   "outputs": [],
   "source": [
    "import pymongo\n",
    "from pymongo import MongoClient"
   ]
  },
  {
   "cell_type": "code",
   "execution_count": 4,
   "id": "16efaa36",
   "metadata": {},
   "outputs": [],
   "source": [
    "client = MongoClient(\"mongodb://localhost:27017\")\n",
    "db = client[\"nobel\"]\n",
    "prizes_collection = db[\"prizes\"]\n",
    "laureates_collection = db[\"laureates\"]\n",
    "filter = {}"
   ]
  },
  {
   "attachments": {},
   "cell_type": "markdown",
   "id": "5c2bd6df",
   "metadata": {},
   "source": [
    "### Part 01: Getting started with Databases"
   ]
  },
  {
   "cell_type": "code",
   "execution_count": 5,
   "id": "435a6346",
   "metadata": {},
   "outputs": [
    {
     "name": "stdout",
     "output_type": "stream",
     "text": [
      "- Collection prizes: 590 documents\n"
     ]
    }
   ],
   "source": [
    "#count document in 'prizes' collection\n",
    "n_prizes = db.prizes.count_documents(filter)\n",
    "print(f'- Collection {\"prizes\"}: {n_prizes} documents')"
   ]
  },
  {
   "cell_type": "code",
   "execution_count": 6,
   "id": "03a0328c",
   "metadata": {},
   "outputs": [
    {
     "name": "stdout",
     "output_type": "stream",
     "text": [
      "- Collection laureates: 934 documents\n"
     ]
    }
   ],
   "source": [
    "#count document in 'laureates' collection\n",
    "n_laureates = db.laureates.count_documents(filter)\n",
    "print(f'- Collection {\"laureates\"}: {n_laureates} documents')"
   ]
  },
  {
   "attachments": {},
   "cell_type": "markdown",
   "id": "26c6cbcc",
   "metadata": {},
   "source": [
    "#### Task 01 - List database & collection names"
   ]
  },
  {
   "cell_type": "code",
   "execution_count": 7,
   "id": "4acfb879",
   "metadata": {},
   "outputs": [
    {
     "name": "stdout",
     "output_type": "stream",
     "text": [
      "['Comparison', 'admin', 'aggregation_test', 'config', 'datacar', 'db02', 'db03', 'hospital', 'local', 'my_store', 'nobel', 'support']\n"
     ]
    }
   ],
   "source": [
    "# list of databases managed by client\n",
    "db_names = client.list_database_names()\n",
    "print(db_names)"
   ]
  },
  {
   "cell_type": "code",
   "execution_count": 8,
   "id": "37ddc259",
   "metadata": {},
   "outputs": [
    {
     "data": {
      "text/plain": [
       "['laureates', 'prizes']"
      ]
     },
     "execution_count": 8,
     "metadata": {},
     "output_type": "execute_result"
    }
   ],
   "source": [
    "# list of collections managed by 'nobel' database \n",
    "nobel_coll_names = db.list_collection_names()\n",
    "nobel_coll_names"
   ]
  },
  {
   "cell_type": "markdown",
   "id": "5ce1dbfa",
   "metadata": {},
   "source": [
    "### Part 02: Data Analysis Intuition"
   ]
  },
  {
   "attachments": {},
   "cell_type": "markdown",
   "id": "7249be97",
   "metadata": {},
   "source": [
    "### Part 03: DATA Analysis"
   ]
  },
  {
   "attachments": {},
   "cell_type": "markdown",
   "id": "790e2909",
   "metadata": {},
   "source": [
    "#### Task 02 - Retrive sample in prizes & laureates collection, get their lists of fields"
   ]
  },
  {
   "cell_type": "code",
   "execution_count": 9,
   "id": "5f97a92c",
   "metadata": {},
   "outputs": [],
   "source": [
    "# Connect to the \"nobel\" database\n",
    "db = client.nobel"
   ]
  },
  {
   "cell_type": "code",
   "execution_count": 10,
   "id": "b080872f",
   "metadata": {},
   "outputs": [
    {
     "name": "stdout",
     "output_type": "stream",
     "text": [
      "{'_id': ObjectId('63d9c9fc42b546d870b83629'), 'year': '2018', 'category': 'physics', 'overallMotivation': '“for groundbreaking inventions in the field of laser physics”', 'laureates': [{'id': '960', 'firstname': 'Arthur', 'surname': 'Ashkin', 'motivation': '\"for the optical tweezers and their application to biological systems\"', 'share': '2'}, {'id': '961', 'firstname': 'Gérard', 'surname': 'Mourou', 'motivation': '\"for their method of generating high-intensity, ultra-short optical pulses\"', 'share': '4'}, {'id': '962', 'firstname': 'Donna', 'surname': 'Strickland', 'motivation': '\"for their method of generating high-intensity, ultra-short optical pulses\"', 'share': '4'}]}\n",
      "<class 'dict'>\n"
     ]
    }
   ],
   "source": [
    "# Retrieve one 'prizes' document\n",
    "prize = db.prizes.find_one()\n",
    "print(prize)\n",
    "print(type(prize))"
   ]
  },
  {
   "cell_type": "code",
   "execution_count": 11,
   "id": "2ae786cf",
   "metadata": {},
   "outputs": [
    {
     "name": "stdout",
     "output_type": "stream",
     "text": [
      "{'_id': ObjectId('63d9c9ee42b546d870b83282'), 'id': '2', 'firstname': 'Hendrik Antoon', 'surname': 'Lorentz', 'born': '1853-07-18', 'died': '1928-02-04', 'bornCountry': 'the Netherlands', 'bornCountryCode': 'NL', 'bornCity': 'Arnhem', 'diedCountry': 'the Netherlands', 'diedCountryCode': 'NL', 'gender': 'male', 'prizes': [{'year': '1902', 'category': 'physics', 'share': '2', 'motivation': '\"in recognition of the extraordinary service they rendered by their researches into the influence of magnetism upon radiation phenomena\"', 'affiliations': [{'name': 'Leiden University', 'city': 'Leiden', 'country': 'the Netherlands'}]}]}\n",
      "<class 'dict'>\n"
     ]
    }
   ],
   "source": [
    "# Retrieve one 'laureates' document\n",
    "laureate = db.laureates.find_one()\n",
    "print(laureate)\n",
    "print(type(laureate))"
   ]
  },
  {
   "cell_type": "code",
   "execution_count": 12,
   "id": "4ef5ef82",
   "metadata": {},
   "outputs": [
    {
     "name": "stdout",
     "output_type": "stream",
     "text": [
      "['_id', 'year', 'category', 'overallMotivation', 'laureates']\n",
      "['_id', 'id', 'firstname', 'surname', 'born', 'died', 'bornCountry', 'bornCountryCode', 'bornCity', 'diedCountry', 'diedCountryCode', 'gender', 'prizes']\n"
     ]
    }
   ],
   "source": [
    "# Get the fields present in each type of document\n",
    "prize_fields = list(prize.keys())\n",
    "laureate_fields = list(laureate.keys())\n",
    "\n",
    "print(prize_fields)\n",
    "print(laureate_fields)"
   ]
  },
  {
   "attachments": {},
   "cell_type": "markdown",
   "id": "138ac7eb",
   "metadata": {},
   "source": [
    "#### Task 03 - Filter the \"born\" field"
   ]
  },
  {
   "cell_type": "code",
   "execution_count": 13,
   "id": "718aa0b1",
   "metadata": {},
   "outputs": [
    {
     "data": {
      "text/plain": [
       "38"
      ]
     },
     "execution_count": 13,
     "metadata": {},
     "output_type": "execute_result"
    }
   ],
   "source": [
    "# The number of laureates born prior to 1800:\n",
    "db.laureates.count_documents({\"born\": {\"$lt\": \"1800\"}}) "
   ]
  },
  {
   "cell_type": "code",
   "execution_count": 14,
   "id": "fb34d7ce",
   "metadata": {},
   "outputs": [
    {
     "data": {
      "text/plain": [
       "38"
      ]
     },
     "execution_count": 14,
     "metadata": {},
     "output_type": "execute_result"
    }
   ],
   "source": [
    "# The number of laureates born prior to 1700:\n",
    "db.laureates.count_documents({\"born\": {\"$lt\": \"1700\"}}) "
   ]
  },
  {
   "attachments": {},
   "cell_type": "markdown",
   "id": "f6138336",
   "metadata": {},
   "source": [
    "#### Task 04 - Composing filters"
   ]
  },
  {
   "cell_type": "code",
   "execution_count": 15,
   "id": "5d9687b5",
   "metadata": {},
   "outputs": [
    {
     "name": "stdout",
     "output_type": "stream",
     "text": [
      "209\n"
     ]
    }
   ],
   "source": [
    "# The number of laureates died in USA\n",
    "## Create a filter for laureates who died in the USA\n",
    "criteria = {\"diedCountry\": \"USA\"}\n",
    "\n",
    "## Save the count of these laureates\n",
    "count = db.laureates.count_documents(criteria)\n",
    "print(count)"
   ]
  },
  {
   "cell_type": "code",
   "execution_count": 16,
   "id": "14d9450b",
   "metadata": {},
   "outputs": [
    {
     "name": "stdout",
     "output_type": "stream",
     "text": [
      "5\n"
     ]
    }
   ],
   "source": [
    "# The number of laureates were born in Germany and died in USA\n",
    "## Create a filter for laureates who died in the USA but were born in Germany\n",
    "criteria = {\"diedCountry\": \"USA\",\n",
    "            \"bornCountry\": \"Germany\"}\n",
    "\n",
    "## Save the count of these laureates\n",
    "count = db.laureates.count_documents(criteria)\n",
    "print(count)"
   ]
  },
  {
   "cell_type": "code",
   "execution_count": 17,
   "id": "391dc33d",
   "metadata": {},
   "outputs": [
    {
     "name": "stdout",
     "output_type": "stream",
     "text": [
      "1\n"
     ]
    }
   ],
   "source": [
    "# The number of laureates whose firstname was \"Albert\", born in Germany and died in USA\n",
    "## Create a filter for Germany-born laureates who died in the USA and with the first name \"Albert\"\n",
    "criteria = {\"diedCountry\": \"USA\",\n",
    "            \"bornCountry\": \"Germany\",\n",
    "            \"firstname\": \"Albert\"}\n",
    "\n",
    "## Save the count of these laureates\n",
    "count = db.laureates.count_documents(criteria)\n",
    "print(count)"
   ]
  },
  {
   "attachments": {},
   "cell_type": "markdown",
   "id": "e4c16298",
   "metadata": {},
   "source": [
    "#### Task 05 - Filter by use the $in and the $ne"
   ]
  },
  {
   "cell_type": "code",
   "execution_count": 18,
   "id": "1992cca8",
   "metadata": {},
   "outputs": [
    {
     "name": "stdout",
     "output_type": "stream",
     "text": [
      "291\n"
     ]
    }
   ],
   "source": [
    "# The number of laureates born in USA, Canada or Mexico\n",
    "## Save a filter for laureates born in the USA, Canada, or Mexico\n",
    "criteria = {\"bornCountry\":\n",
    "            { \"$in\": [\"USA\", \"Canada\", \"Mexico\"]}}\n",
    "\n",
    "## Count them and save the count\n",
    "count = db.laureates.count_documents(criteria)\n",
    "print(count)"
   ]
  },
  {
   "cell_type": "code",
   "execution_count": 19,
   "id": "cf72b18d",
   "metadata": {},
   "outputs": [
    {
     "name": "stdout",
     "output_type": "stream",
     "text": [
      "69\n"
     ]
    }
   ],
   "source": [
    "# The number oflLaureates died in USA and not born in USA\n",
    "## Save a filter for laureates who died in the USA and were not born there\n",
    "criteria = {\"diedCountry\": \"USA\",\n",
    "            \"bornCountry\": { \"$ne\": \"USA\"}}\n",
    "\n",
    "## Count them and save the count\n",
    "count = db.laureates.count_documents(criteria)\n",
    "print(count)"
   ]
  },
  {
   "attachments": {},
   "cell_type": "markdown",
   "id": "b89a8a2f",
   "metadata": {},
   "source": [
    "#### Task 06 - Filter by more specific details"
   ]
  },
  {
   "cell_type": "code",
   "execution_count": 20,
   "id": "96d1ec7e",
   "metadata": {},
   "outputs": [
    {
     "name": "stdout",
     "output_type": "stream",
     "text": [
      "10\n"
     ]
    }
   ],
   "source": [
    "# The number of laureates born in Austria with a prize affiliation country is not also Austria\n",
    "## Filter for laureates born in Austria with non-Austria prize affiliation\n",
    "criteria = {\"bornCountry\": \"Austria\",\n",
    "            \"prizes.affiliations.country\": {\"$ne\": \"Austria\"}}\n",
    "\n",
    "## Count the number of such laureates\n",
    "count = db.laureates.count_documents(criteria)\n",
    "print(count)"
   ]
  },
  {
   "attachments": {},
   "cell_type": "markdown",
   "id": "5f0bcac3",
   "metadata": {},
   "source": [
    "#### Task 07 - Filter exist"
   ]
  },
  {
   "cell_type": "code",
   "execution_count": 21,
   "id": "426598c9",
   "metadata": {},
   "outputs": [
    {
     "name": "stdout",
     "output_type": "stream",
     "text": [
      "38\n"
     ]
    }
   ],
   "source": [
    "# The number of laureates with \"born\" field value \"0000-00-00\"\n",
    "## Filter for documents with \"born\" field value \"0000-00-00\"\n",
    "criteria = {\"born\": \"0000-00-00\"}\n",
    "\n",
    "## Save count\n",
    "count = db.laureates.count_documents(criteria)\n",
    "print(count)"
   ]
  },
  {
   "cell_type": "code",
   "execution_count": 22,
   "id": "c76fbc65",
   "metadata": {},
   "outputs": [
    {
     "name": "stdout",
     "output_type": "stream",
     "text": [
      "0\n"
     ]
    }
   ],
   "source": [
    "# The number of laureates without a \"born\" field\n",
    "## Filter for documents without a \"born\" field\n",
    "criteria = {\"born\": {\"$exists\": False}}\n",
    "\n",
    "## Save count\n",
    "count = db.laureates.count_documents(criteria)\n",
    "print(count)"
   ]
  },
  {
   "cell_type": "code",
   "execution_count": 23,
   "id": "e59d0776",
   "metadata": {},
   "outputs": [
    {
     "name": "stdout",
     "output_type": "stream",
     "text": [
      "{'_id': ObjectId('63d9c9ee42b546d870b833b8'), 'id': '482', 'firstname': 'Comité international de la Croix Rouge (International Committee of the Red Cross)', 'born': '0000-00-00', 'died': '0000-00-00', 'gender': 'org', 'prizes': [{'year': '1917', 'category': 'peace', 'share': '1', 'affiliations': [[]]}, {'year': '1944', 'category': 'peace', 'share': '1', 'affiliations': [[]]}, {'year': '1963', 'category': 'peace', 'share': '2', 'affiliations': [[]]}]}\n"
     ]
    }
   ],
   "source": [
    "# A laureate won at least 3 prizes\n",
    "## Filter for laureates with at least three prizes\n",
    "criteria = {\"prizes.2\": {\"$exists\": True}}\n",
    "\n",
    "## Find one laureate with at least three prizes\n",
    "doc = db.laureates.find_one(criteria)\n",
    "\n",
    "## Print the document\n",
    "print(doc)"
   ]
  },
  {
   "cell_type": "code",
   "execution_count": 24,
   "id": "957575a1",
   "metadata": {},
   "outputs": [
    {
     "name": "stdout",
     "output_type": "stream",
     "text": [
      "{'_id': ObjectId('63d9c9ee42b546d870b832bf'), 'id': '217', 'firstname': 'Linus Carl', 'surname': 'Pauling', 'born': '1901-02-28', 'died': '1994-08-19', 'bornCountry': 'USA', 'bornCountryCode': 'US', 'bornCity': 'Portland, OR', 'diedCountry': 'USA', 'diedCountryCode': 'US', 'diedCity': 'Big Sur, CA', 'gender': 'male', 'prizes': [{'year': '1954', 'category': 'chemistry', 'share': '1', 'motivation': '\"for his research into the nature of the chemical bond and its application to the elucidation of the structure of complex substances\"', 'affiliations': [{'name': 'California Institute of Technology (Caltech)', 'city': 'Pasadena, CA', 'country': 'USA'}]}, {'year': '1962', 'category': 'peace', 'share': '1', 'affiliations': [{'name': 'California Institute of Technology (Caltech)', 'city': 'Pasadena, CA', 'country': 'USA'}]}]}\n",
      "\n",
      "\n",
      "{'_id': ObjectId('63d9c9ee42b546d870b832c6'), 'id': '6', 'firstname': 'Marie', 'surname': 'Curie, née Sklodowska', 'born': '1867-11-07', 'died': '1934-07-04', 'bornCountry': 'Russian Empire (now Poland)', 'bornCountryCode': 'PL', 'bornCity': 'Warsaw', 'diedCountry': 'France', 'diedCountryCode': 'FR', 'diedCity': 'Sallanches', 'gender': 'female', 'prizes': [{'year': '1903', 'category': 'physics', 'share': '4', 'motivation': '\"in recognition of the extraordinary services they have rendered by their joint researches on the radiation phenomena discovered by Professor Henri Becquerel\"', 'affiliations': [[]]}, {'year': '1911', 'category': 'chemistry', 'share': '1', 'motivation': '\"in recognition of her services to the advancement of chemistry by the discovery of the elements radium and polonium, by the isolation of radium and the study of the nature and compounds of this remarkable element\"', 'affiliations': [{'name': 'Sorbonne University', 'city': 'Paris', 'country': 'France'}]}]}\n",
      "\n",
      "\n",
      "{'_id': ObjectId('63d9c9ee42b546d870b83301'), 'id': '66', 'firstname': 'John', 'surname': 'Bardeen', 'born': '1908-05-23', 'died': '1991-01-30', 'bornCountry': 'USA', 'bornCountryCode': 'US', 'bornCity': 'Madison, WI', 'diedCountry': 'USA', 'diedCountryCode': 'US', 'diedCity': 'Boston, MA', 'gender': 'male', 'prizes': [{'year': '1956', 'category': 'physics', 'share': '3', 'motivation': '\"for their researches on semiconductors and their discovery of the transistor effect\"', 'affiliations': [{'name': 'University of Illinois', 'city': 'Urbana, IL', 'country': 'USA'}]}, {'year': '1972', 'category': 'physics', 'share': '3', 'motivation': '\"for their jointly developed theory of superconductivity, usually called the BCS-theory\"', 'affiliations': [{'name': 'University of Illinois', 'city': 'Urbana, IL', 'country': 'USA'}]}]}\n",
      "\n",
      "\n",
      "{'_id': ObjectId('63d9c9ee42b546d870b83304'), 'id': '222', 'firstname': 'Frederick', 'surname': 'Sanger', 'born': '1918-08-13', 'died': '2013-11-19', 'bornCountry': 'United Kingdom', 'bornCountryCode': 'GB', 'bornCity': 'Rendcombe', 'diedCountry': 'United Kingdom', 'diedCountryCode': 'GB', 'diedCity': 'Cambridge', 'gender': 'male', 'prizes': [{'year': '1958', 'category': 'chemistry', 'share': '1', 'motivation': '\"for his work on the structure of proteins, especially that of insulin\"', 'affiliations': [{'name': 'University of Cambridge', 'city': 'Cambridge', 'country': 'United Kingdom'}]}, {'year': '1980', 'category': 'chemistry', 'share': '4', 'motivation': '\"for their contributions concerning the determination of base sequences in nucleic acids\"', 'affiliations': [{'name': 'MRC Laboratory of Molecular Biology', 'city': 'Cambridge', 'country': 'United Kingdom'}]}]}\n",
      "\n",
      "\n",
      "{'_id': ObjectId('63d9c9ee42b546d870b833b8'), 'id': '482', 'firstname': 'Comité international de la Croix Rouge (International Committee of the Red Cross)', 'born': '0000-00-00', 'died': '0000-00-00', 'gender': 'org', 'prizes': [{'year': '1917', 'category': 'peace', 'share': '1', 'affiliations': [[]]}, {'year': '1944', 'category': 'peace', 'share': '1', 'affiliations': [[]]}, {'year': '1963', 'category': 'peace', 'share': '2', 'affiliations': [[]]}]}\n",
      "\n",
      "\n",
      "{'_id': ObjectId('63d9c9ee42b546d870b8352f'), 'id': '515', 'firstname': 'Office of the United Nations High Commissioner for Refugees (UNHCR)', 'born': '0000-00-00', 'died': '0000-00-00', 'gender': 'org', 'prizes': [{'year': '1954', 'category': 'peace', 'share': '1', 'affiliations': [[]]}, {'year': '1981', 'category': 'peace', 'share': '1', 'affiliations': [[]]}]}\n",
      "\n",
      "\n"
     ]
    }
   ],
   "source": [
    "# BONUS: The number of laureates won at least 2 prizes\n",
    "## Filter for laureates with at least two prizes\n",
    "criteria = {\"prizes.1\": {\"$exists\": True}}\n",
    "\n",
    "## Find one laureate with at least two prizes\n",
    "docs = db.laureates.find(criteria)\n",
    "\n",
    "## Print the document\n",
    "for doc in docs:\n",
    "    print(f'{doc}\\n\\n')"
   ]
  },
  {
   "attachments": {},
   "cell_type": "markdown",
   "id": "aead4184",
   "metadata": {},
   "source": [
    "#### Task 08 - Working with Distinct"
   ]
  },
  {
   "cell_type": "code",
   "execution_count": 25,
   "id": "67ae7f86",
   "metadata": {},
   "outputs": [
    {
     "data": {
      "text/plain": [
       "{'_id': ObjectId('63d9c9fc42b546d870b83629'),\n",
       " 'year': '2018',\n",
       " 'category': 'physics',\n",
       " 'overallMotivation': '“for groundbreaking inventions in the field of laser physics”',\n",
       " 'laureates': [{'id': '960',\n",
       "   'firstname': 'Arthur',\n",
       "   'surname': 'Ashkin',\n",
       "   'motivation': '\"for the optical tweezers and their application to biological systems\"',\n",
       "   'share': '2'},\n",
       "  {'id': '961',\n",
       "   'firstname': 'Gérard',\n",
       "   'surname': 'Mourou',\n",
       "   'motivation': '\"for their method of generating high-intensity, ultra-short optical pulses\"',\n",
       "   'share': '4'},\n",
       "  {'id': '962',\n",
       "   'firstname': 'Donna',\n",
       "   'surname': 'Strickland',\n",
       "   'motivation': '\"for their method of generating high-intensity, ultra-short optical pulses\"',\n",
       "   'share': '4'}]}"
      ]
     },
     "execution_count": 25,
     "metadata": {},
     "output_type": "execute_result"
    }
   ],
   "source": [
    "# find one sample 'prizes'\n",
    "db.prizes.find_one()"
   ]
  },
  {
   "cell_type": "code",
   "execution_count": 26,
   "id": "6a1f2485",
   "metadata": {},
   "outputs": [
    {
     "data": {
      "text/plain": [
       "{'_id': ObjectId('63d9c9ee42b546d870b83282'),\n",
       " 'id': '2',\n",
       " 'firstname': 'Hendrik Antoon',\n",
       " 'surname': 'Lorentz',\n",
       " 'born': '1853-07-18',\n",
       " 'died': '1928-02-04',\n",
       " 'bornCountry': 'the Netherlands',\n",
       " 'bornCountryCode': 'NL',\n",
       " 'bornCity': 'Arnhem',\n",
       " 'diedCountry': 'the Netherlands',\n",
       " 'diedCountryCode': 'NL',\n",
       " 'gender': 'male',\n",
       " 'prizes': [{'year': '1902',\n",
       "   'category': 'physics',\n",
       "   'share': '2',\n",
       "   'motivation': '\"in recognition of the extraordinary service they rendered by their researches into the influence of magnetism upon radiation phenomena\"',\n",
       "   'affiliations': [{'name': 'Leiden University',\n",
       "     'city': 'Leiden',\n",
       "     'country': 'the Netherlands'}]}]}"
      ]
     },
     "execution_count": 26,
     "metadata": {},
     "output_type": "execute_result"
    }
   ],
   "source": [
    "# Find one sample 'laureates'\n",
    "db.laureates.find_one()"
   ]
  },
  {
   "cell_type": "code",
   "execution_count": 27,
   "id": "b943c034",
   "metadata": {},
   "outputs": [
    {
     "data": {
      "text/plain": [
       "True"
      ]
     },
     "execution_count": 27,
     "metadata": {},
     "output_type": "execute_result"
    }
   ],
   "source": [
    "# Check same distinct categories between prizes category and prizes categories in 'laureates' collection\n",
    "set(db.prizes.distinct(\"category\")) == set(db.laureates.distinct(\"prizes.category\"))"
   ]
  },
  {
   "cell_type": "code",
   "execution_count": 28,
   "id": "9a88e883",
   "metadata": {},
   "outputs": [],
   "source": [
    "# Asserts that the distinct Nobel Prize categories catalogued by the \"prizes\" collection are the same as those catalogued by the \"laureates\"\n",
    "assert set(db.prizes.distinct(\"category\")) == set(db.laureates.distinct(\"prizes.category\"))"
   ]
  },
  {
   "attachments": {},
   "cell_type": "markdown",
   "id": "5d845978",
   "metadata": {},
   "source": [
    "#### Task 09 - diedCountry vs. bornCountry"
   ]
  },
  {
   "cell_type": "code",
   "execution_count": 29,
   "id": "1d264fba",
   "metadata": {},
   "outputs": [
    {
     "name": "stdout",
     "output_type": "stream",
     "text": [
      "{'Jamaica', 'Northern Rhodesia (now Zambia)', 'Puerto Rico', 'Barbados', 'Gabon', 'Philippines', 'Tunisia', 'Greece', 'Czechoslovakia', 'USSR', 'Israel', 'Yugoslavia (now Serbia)', 'East Germany'}\n"
     ]
    }
   ],
   "source": [
    "# Countries recorded as countries of death but not as countries of birth\n",
    "countries = set(db.laureates.distinct(\"diedCountry\")) - set(db.laureates.distinct(\"bornCountry\"))\n",
    "print(countries)"
   ]
  },
  {
   "attachments": {},
   "cell_type": "markdown",
   "id": "5e562d20",
   "metadata": {},
   "source": [
    "#### Task 10 - Affiliation countries"
   ]
  },
  {
   "cell_type": "code",
   "execution_count": 30,
   "id": "ba6d3479",
   "metadata": {},
   "outputs": [
    {
     "name": "stdout",
     "output_type": "stream",
     "text": [
      "29\n"
     ]
    }
   ],
   "source": [
    "# The number of distinct countries of laureate affiliation for prizes\n",
    "count = len(db.laureates.distinct(\"prizes.affiliations.country\"))\n",
    "print(count)"
   ]
  },
  {
   "attachments": {},
   "cell_type": "markdown",
   "id": "45714f45",
   "metadata": {},
   "source": [
    "#### Task 11 - Countries' affilitions of USA-born laureates"
   ]
  },
  {
   "cell_type": "code",
   "execution_count": 31,
   "id": "e5eab7ad",
   "metadata": {},
   "outputs": [
    {
     "data": {
      "text/plain": [
       "['Australia', 'Denmark', 'USA', 'United Kingdom']"
      ]
     },
     "execution_count": 31,
     "metadata": {},
     "output_type": "execute_result"
    }
   ],
   "source": [
    "# Countries had affiliations for USA-born laureates' prizes\n",
    "db.laureates.distinct(\"prizes.affiliations.country\", {\"bornCountry\": \"USA\"})"
   ]
  },
  {
   "attachments": {},
   "cell_type": "markdown",
   "id": "8ba6785c",
   "metadata": {},
   "source": [
    "#### Task 12 - Prizes shared by 3 or more laureates"
   ]
  },
  {
   "cell_type": "code",
   "execution_count": 410,
   "id": "e5984cdc",
   "metadata": {},
   "outputs": [],
   "source": [
    "# Save a filter for prize documents with three or more laureates\n",
    "criteria = {\"laureates.2\": {\"$exists\": True}}"
   ]
  },
  {
   "cell_type": "code",
   "execution_count": 33,
   "id": "11d859d0",
   "metadata": {},
   "outputs": [],
   "source": [
    "# Save the set of distinct prize categories in documents satisfying the criteria\n",
    "triple_play_categories = set(db.prizes.distinct(\"category\", criteria))"
   ]
  },
  {
   "cell_type": "code",
   "execution_count": 34,
   "id": "c9f458fe",
   "metadata": {},
   "outputs": [
    {
     "name": "stdout",
     "output_type": "stream",
     "text": [
      "{'medicine', 'chemistry', 'physics', 'peace', 'economics'}\n"
     ]
    }
   ],
   "source": [
    "print(triple_play_categories)"
   ]
  },
  {
   "cell_type": "code",
   "execution_count": 35,
   "id": "52115364",
   "metadata": {},
   "outputs": [
    {
     "data": {
      "text/plain": [
       "True"
      ]
     },
     "execution_count": 35,
     "metadata": {},
     "output_type": "execute_result"
    }
   ],
   "source": [
    "# Confirm that \"literature\" is the only prize category with no prizes shared by three or more laureates\n",
    "set(db.prizes.distinct(\"category\")) - triple_play_categories == {\"literature\"}"
   ]
  },
  {
   "attachments": {},
   "cell_type": "markdown",
   "id": "6ccacc78",
   "metadata": {},
   "source": [
    "#### Task 13 - Physics sharing after World War II"
   ]
  },
  {
   "cell_type": "code",
   "execution_count": 36,
   "id": "c8073f9b",
   "metadata": {},
   "outputs": [
    {
     "data": {
      "text/plain": [
       "143"
      ]
     },
     "execution_count": 36,
     "metadata": {},
     "output_type": "execute_result"
    }
   ],
   "source": [
    "# Number of laureates who won an unshared ({\"share\": \"1\"}) prize in physics after World War II \n",
    "db.laureates.count_documents({\n",
    "            \"prizes\": {\"$elemMatch\": {\n",
    "                \"category\": \"physics\",\n",
    "                \"share\": {\"$ne\": \"1\"},\n",
    "                \"year\": {\"$gte\": \"1945\"}}}})"
   ]
  },
  {
   "cell_type": "code",
   "execution_count": 37,
   "id": "7e436944",
   "metadata": {},
   "outputs": [
    {
     "data": {
      "text/plain": [
       "18"
      ]
     },
     "execution_count": 37,
     "metadata": {},
     "output_type": "execute_result"
    }
   ],
   "source": [
    "# Number of laureates who won a shared prize in physics after World War II\n",
    "db.laureates.count_documents({\n",
    "            \"prizes\": {\"$elemMatch\": {\n",
    "                \"category\": \"physics\",\n",
    "                \"share\": \"1\",\n",
    "                \"year\": {\"$gte\": \"1945\"}}}})"
   ]
  },
  {
   "cell_type": "code",
   "execution_count": 38,
   "id": "b4b9c6a6",
   "metadata": {},
   "outputs": [
    {
     "data": {
      "text/plain": [
       "0.1258741258741259"
      ]
     },
     "execution_count": 38,
     "metadata": {},
     "output_type": "execute_result"
    }
   ],
   "source": [
    "# Compute the ratio\n",
    "18/143"
   ]
  },
  {
   "attachments": {},
   "cell_type": "markdown",
   "id": "83cf64c4",
   "metadata": {},
   "source": [
    "####  Task 14 - The ratio for prize categories other than physics, chemistry, and medicine"
   ]
  },
  {
   "cell_type": "code",
   "execution_count": 404,
   "id": "800ba418",
   "metadata": {},
   "outputs": [
    {
     "data": {
      "text/plain": [
       "{'prizes': {'$elemMatch': {'category': {'$nin': ['physics',\n",
       "     'chemistry',\n",
       "     'medicine']},\n",
       "   'share': '1',\n",
       "   'year': {'$gte': '1945'}}}}"
      ]
     },
     "execution_count": 404,
     "metadata": {},
     "output_type": "execute_result"
    }
   ],
   "source": [
    "# Save a filter for laureates with unshared prizes\n",
    "unshared = {\n",
    "    \"prizes\": {\"$elemMatch\": {\n",
    "        \"category\": {\"$nin\": [\"physics\", \"chemistry\", \"medicine\"]},\n",
    "        \"share\": \"1\",\n",
    "        \"year\": {\"$gte\": \"1945\"},\n",
    "    }}}"
   ]
  },
  {
   "cell_type": "code",
   "execution_count": 40,
   "id": "a5dfda56",
   "metadata": {},
   "outputs": [],
   "source": [
    "# Save a filter for laureates with shared prizes\n",
    "shared = {\n",
    "    \"prizes\": {\"$elemMatch\": {\n",
    "        \"category\": {\"$nin\": [\"physics\", \"chemistry\", \"medicine\"]},\n",
    "        \"share\": {\"$ne\": \"1\"},\n",
    "        \"year\": {\"$gte\": \"1945\"},\n",
    "    }}}"
   ]
  },
  {
   "cell_type": "code",
   "execution_count": 41,
   "id": "262c0d39",
   "metadata": {},
   "outputs": [
    {
     "name": "stdout",
     "output_type": "stream",
     "text": [
      "1.3653846153846154\n"
     ]
    }
   ],
   "source": [
    "# Compute the ratio\n",
    "ratio = db.laureates.count_documents(unshared) / db.laureates.count_documents(shared)\n",
    "print(ratio)"
   ]
  },
  {
   "attachments": {},
   "cell_type": "markdown",
   "id": "b5aceef0",
   "metadata": {},
   "source": [
    "#### Task 15 - Organizations and prizes over time"
   ]
  },
  {
   "cell_type": "code",
   "execution_count": 42,
   "id": "715959cc",
   "metadata": {},
   "outputs": [],
   "source": [
    "# Save a filter for organization laureates with prizes won before 1945\n",
    "before_1945 = {\"gender\": \"org\", \"prizes.year\": {\"$lt\": \"1945\"}}"
   ]
  },
  {
   "cell_type": "code",
   "execution_count": 43,
   "id": "cc9c4376",
   "metadata": {},
   "outputs": [],
   "source": [
    "# Save a filter for organization laureates with prizes won in or after 1945\n",
    "in_or_after_1945 = {\"gender\": \"org\", \"prizes.year\": {\"$gte\": \"1945\"}}"
   ]
  },
  {
   "cell_type": "code",
   "execution_count": 44,
   "id": "a0e84883",
   "metadata": {},
   "outputs": [],
   "source": [
    "# Count the number of organisations won prizes before and after 1945\n",
    "n_before = db.laureates.count_documents(before_1945)\n",
    "n_in_or_after = db.laureates.count_documents(in_or_after_1945)"
   ]
  },
  {
   "cell_type": "code",
   "execution_count": 45,
   "id": "9285d6ff",
   "metadata": {},
   "outputs": [
    {
     "name": "stdout",
     "output_type": "stream",
     "text": [
      "0.84\n"
     ]
    }
   ],
   "source": [
    "# Calculate ratio\n",
    "ratio = n_in_or_after / (n_in_or_after + n_before)\n",
    "print(ratio)"
   ]
  },
  {
   "attachments": {},
   "cell_type": "markdown",
   "id": "8777d0e5",
   "metadata": {},
   "source": [
    "#### Task 16 - Laureates' first name beginning with G & surname beginning with S"
   ]
  },
  {
   "cell_type": "code",
   "execution_count": 46,
   "id": "4cdbcb41",
   "metadata": {},
   "outputs": [
    {
     "data": {
      "text/plain": [
       "9"
      ]
     },
     "execution_count": 46,
     "metadata": {},
     "output_type": "execute_result"
    }
   ],
   "source": [
    "from bson.regex import Regex\n",
    "# Number of laureates have a first name beginning with \"G\" and a surname beginning with \"S\"\n",
    "db.laureates.count_documents({\"firstname\": Regex(\"^G.+\"), \"surname\": Regex(\"^S.+\")})"
   ]
  },
  {
   "cell_type": "code",
   "execution_count": 47,
   "id": "45b48639",
   "metadata": {},
   "outputs": [
    {
     "name": "stdout",
     "output_type": "stream",
     "text": [
      "{'Germany', 'West Germany (now Germany)', 'Germany (now Russia)', 'Mecklenburg (now Germany)', 'East Friesland (now Germany)', 'Schleswig (now Germany)', 'Bavaria (now Germany)', 'Prussia (now Germany)', 'W&uuml;rttemberg (now Germany)', 'Germany (now France)', 'Germany (now Poland)', 'Hesse-Kassel (now Germany)'}\n"
     ]
    }
   ],
   "source": [
    "# Filter for laureates with \"Germany\" in their \"bornCountry\" value\n",
    "criteria = {\"bornCountry\": Regex(\"Germany\", 0)}\n",
    "print(set(db.laureates.distinct(\"bornCountry\", criteria)))"
   ]
  },
  {
   "cell_type": "code",
   "execution_count": 48,
   "id": "61e2aff3",
   "metadata": {},
   "outputs": [
    {
     "name": "stdout",
     "output_type": "stream",
     "text": [
      "{'Germany', 'Germany (now Poland)', 'Germany (now Russia)', 'Germany (now France)'}\n"
     ]
    }
   ],
   "source": [
    "# Filter for laureates with a \"bornCountry\" value starting with \"Germany\"\n",
    "criteria = {\"bornCountry\": Regex(\"^Germany\", 0)}\n",
    "print(set(db.laureates.distinct(\"bornCountry\", criteria)))"
   ]
  },
  {
   "cell_type": "code",
   "execution_count": 49,
   "id": "e6cb4b8a",
   "metadata": {},
   "outputs": [
    {
     "name": "stdout",
     "output_type": "stream",
     "text": [
      "{'Germany (now Poland)', 'Germany (now Russia)', 'Germany (now France)'}\n"
     ]
    }
   ],
   "source": [
    "# Filter for laureates born in \"^Germany \" but \"now\" another country\n",
    "criteria = {\"bornCountry\": Regex(\"^Germany \" + \"\\\\(\" + \"now\", 0)}\n",
    "print(set(db.laureates.distinct(\"bornCountry\", criteria)))"
   ]
  },
  {
   "cell_type": "code",
   "execution_count": 50,
   "id": "fa430aac",
   "metadata": {},
   "outputs": [
    {
     "name": "stdout",
     "output_type": "stream",
     "text": [
      "{'West Germany (now Germany)', 'Mecklenburg (now Germany)', 'East Friesland (now Germany)', 'Schleswig (now Germany)', 'Bavaria (now Germany)', 'Prussia (now Germany)', 'W&uuml;rttemberg (now Germany)', 'Hesse-Kassel (now Germany)'}\n"
     ]
    }
   ],
   "source": [
    "# Filter for laureates born in now \"Germany\" but \"past\" another country\n",
    "criteria = {\"bornCountry\": Regex(\"now\" + \" Germany\\\\)\", 0)}\n",
    "print(set(db.laureates.distinct(\"bornCountry\", criteria)))"
   ]
  },
  {
   "cell_type": "code",
   "execution_count": 51,
   "id": "460ae10e",
   "metadata": {},
   "outputs": [
    {
     "name": "stdout",
     "output_type": "stream",
     "text": [
      "{'West Germany (now Germany)', 'Mecklenburg (now Germany)', 'East Friesland (now Germany)', 'Schleswig (now Germany)', 'Bavaria (now Germany)', 'Prussia (now Germany)', 'W&uuml;rttemberg (now Germany)', 'Hesse-Kassel (now Germany)'}\n"
     ]
    }
   ],
   "source": [
    "# Filter for laureates born in now \"Germany\" but \"past\" another country\n",
    "criteria = {\"bornCountry\": Regex(\"now\" + \" Germany\\\\)\" + \"$\", 0)}\n",
    "print(set(db.laureates.distinct(\"bornCountry\", criteria)))"
   ]
  },
  {
   "attachments": {},
   "cell_type": "markdown",
   "id": "2f2ec1ad",
   "metadata": {},
   "source": [
    "#### Task 17 - The prized transistor"
   ]
  },
  {
   "cell_type": "code",
   "execution_count": 52,
   "id": "df863402",
   "metadata": {},
   "outputs": [],
   "source": [
    "# Save a filter for laureates with prize motivation values containing \"transistor\" as a substring\n",
    "criteria = {\"prizes.motivation\": Regex(\"transistor\", 0)}"
   ]
  },
  {
   "cell_type": "code",
   "execution_count": 53,
   "id": "75830355",
   "metadata": {},
   "outputs": [
    {
     "name": "stdout",
     "output_type": "stream",
     "text": [
      "[('William Bradford', 'Shockley'), ('John', 'Bardeen'), ('Walter Houser', 'Brattain')]\n"
     ]
    }
   ],
   "source": [
    "# Save the field names corresponding to a laureate's first name and last name\n",
    "first, last = [\"firstname\", \"surname\"]\n",
    "print([(laureate[first], laureate[last]) for laureate in db.laureates.find(criteria)])"
   ]
  },
  {
   "attachments": {},
   "cell_type": "markdown",
   "id": "50fca157",
   "metadata": {},
   "source": [
    "#### Task 18 - Shared the 1903 prize in Physics"
   ]
  },
  {
   "cell_type": "code",
   "execution_count": 54,
   "id": "1261181f",
   "metadata": {},
   "outputs": [
    {
     "name": "stdout",
     "output_type": "stream",
     "text": [
      "{'_id': ObjectId('63d9c9ee42b546d870b832c4'), 'id': '4', 'firstname': 'Antoine Henri', 'surname': 'Becquerel', 'born': '1852-12-15', 'died': '1908-08-25', 'bornCountry': 'France', 'bornCountryCode': 'FR', 'bornCity': 'Paris', 'diedCountry': 'France', 'diedCountryCode': 'FR', 'gender': 'male', 'prizes': [{'year': '1903', 'category': 'physics', 'share': '2', 'motivation': '\"in recognition of the extraordinary services he has rendered by his discovery of spontaneous radioactivity\"', 'affiliations': [{'name': 'École Polytechnique', 'city': 'Paris', 'country': 'France'}]}]}\n",
      "{'_id': ObjectId('63d9c9ee42b546d870b832c5'), 'id': '5', 'firstname': 'Pierre', 'surname': 'Curie', 'born': '1859-05-15', 'died': '1906-04-19', 'bornCountry': 'France', 'bornCountryCode': 'FR', 'bornCity': 'Paris', 'diedCountry': 'France', 'diedCountryCode': 'FR', 'diedCity': 'Paris', 'gender': 'male', 'prizes': [{'year': '1903', 'category': 'physics', 'share': '4', 'motivation': '\"in recognition of the extraordinary services they have rendered by their joint researches on the radiation phenomena discovered by Professor Henri Becquerel\"', 'affiliations': [{'name': 'École municipale de physique et de chimie industrielles (Municipal School of Industrial Physics and Chemistry)', 'city': 'Paris', 'country': 'France'}]}]}\n",
      "{'_id': ObjectId('63d9c9ee42b546d870b832c6'), 'id': '6', 'firstname': 'Marie', 'surname': 'Curie, née Sklodowska', 'born': '1867-11-07', 'died': '1934-07-04', 'bornCountry': 'Russian Empire (now Poland)', 'bornCountryCode': 'PL', 'bornCity': 'Warsaw', 'diedCountry': 'France', 'diedCountryCode': 'FR', 'diedCity': 'Sallanches', 'gender': 'female', 'prizes': [{'year': '1903', 'category': 'physics', 'share': '4', 'motivation': '\"in recognition of the extraordinary services they have rendered by their joint researches on the radiation phenomena discovered by Professor Henri Becquerel\"', 'affiliations': [[]]}, {'year': '1911', 'category': 'chemistry', 'share': '1', 'motivation': '\"in recognition of her services to the advancement of chemistry by the discovery of the elements radium and polonium, by the isolation of radium and the study of the nature and compounds of this remarkable element\"', 'affiliations': [{'name': 'Sorbonne University', 'city': 'Paris', 'country': 'France'}]}]}\n"
     ]
    }
   ],
   "source": [
    "# Find the laureates shared the 1903 prizes in Physics\n",
    "docs = db.laureates.find({\"prizes\": {\"$elemMatch\": {\"category\": \"physics\", \"year\": \"1903\"}}})\n",
    "# Print the document\n",
    "for doc in docs:\n",
    "    print(doc)"
   ]
  },
  {
   "attachments": {},
   "cell_type": "markdown",
   "id": "e0012c2c",
   "metadata": {},
   "source": [
    "#### Task 19 - Full name of laureates initial G.S"
   ]
  },
  {
   "cell_type": "code",
   "execution_count": 55,
   "id": "eb780de9",
   "metadata": {},
   "outputs": [],
   "source": [
    "# Use projection to select only firstname and surname\n",
    "docs = db.laureates.find(\n",
    "       filter= {\"firstname\" : {\"$regex\" : \"^G\"},\n",
    "                \"surname\" : {\"$regex\" : \"^S\"}  },\n",
    "   projection= [\"firstname\", \"surname\"]  )"
   ]
  },
  {
   "cell_type": "code",
   "execution_count": 56,
   "id": "eb64d2ba",
   "metadata": {},
   "outputs": [],
   "source": [
    "# Iterate over docs and concatenate first name and surname\n",
    "full_names = [doc[\"firstname\"] + \" \" + doc[\"surname\"] for doc in docs]"
   ]
  },
  {
   "cell_type": "code",
   "execution_count": 57,
   "id": "387e7041",
   "metadata": {},
   "outputs": [
    {
     "name": "stdout",
     "output_type": "stream",
     "text": [
      "['George D. Snell', 'Gustav Stresemann', 'Glenn Theodore Seaborg', 'George J. Stigler', 'George F. Smoot', 'George E. Smith', 'George P. Smith', 'George Bernard Shaw', 'Giorgos Seferis']\n"
     ]
    }
   ],
   "source": [
    "# Print the full names\n",
    "print(full_names)"
   ]
  },
  {
   "attachments": {},
   "cell_type": "markdown",
   "id": "cc99f63e",
   "metadata": {},
   "source": [
    "#### Task 20 - All shares add up to 1"
   ]
  },
  {
   "cell_type": "code",
   "execution_count": 58,
   "id": "cac3df60",
   "metadata": {},
   "outputs": [
    {
     "name": "stdout",
     "output_type": "stream",
     "text": [
      "1.0\n",
      "1.0\n",
      "1.0\n",
      "1.0\n",
      "1.0\n",
      "1.0\n",
      "1.0\n",
      "1.0\n",
      "1.0\n",
      "1.0\n",
      "1.0\n",
      "1.0\n",
      "1.0\n",
      "1.0\n",
      "1.0\n",
      "1.0\n",
      "1.0\n",
      "1.0\n",
      "1.0\n",
      "1.0\n",
      "1.0\n",
      "1.0\n",
      "1.0\n",
      "1.0\n",
      "1.0\n",
      "1.0\n",
      "1.0\n",
      "1.0\n",
      "1.0\n",
      "1.0\n",
      "1.0\n",
      "1.0\n",
      "1.0\n",
      "1.0\n",
      "1.0\n",
      "1.0\n",
      "1.0\n",
      "1.0\n",
      "1.0\n",
      "1.0\n",
      "1.0\n",
      "1.0\n",
      "1.0\n",
      "1.0\n",
      "1.0\n",
      "1.0\n",
      "1.0\n",
      "1.0\n",
      "1.0\n",
      "1.0\n",
      "1.0\n",
      "1.0\n",
      "1.0\n",
      "1.0\n",
      "1.0\n",
      "1.0\n",
      "1.0\n",
      "1.0\n",
      "1.0\n",
      "1.0\n",
      "1.0\n",
      "1.0\n",
      "1.0\n",
      "1.0\n",
      "1.0\n",
      "1.0\n",
      "1.0\n",
      "1.0\n",
      "1.0\n",
      "1.0\n",
      "1.0\n",
      "1.0\n",
      "1.0\n",
      "1.0\n",
      "1.0\n",
      "1.0\n",
      "1.0\n",
      "1.0\n",
      "1.0\n",
      "1.0\n",
      "1.0\n",
      "1.0\n",
      "1.0\n",
      "1.0\n",
      "1.0\n",
      "1.0\n",
      "1.0\n",
      "1.0\n",
      "1.0\n",
      "1.0\n",
      "1.0\n",
      "1.0\n",
      "1.0\n",
      "1.0\n",
      "1.0\n",
      "1.0\n",
      "1.0\n",
      "1.0\n",
      "1.0\n",
      "1.0\n",
      "1.0\n",
      "1.0\n",
      "1.0\n",
      "1.0\n",
      "1.0\n",
      "1.0\n",
      "1.0\n",
      "1.0\n",
      "1.0\n",
      "1.0\n",
      "1.0\n",
      "1.0\n",
      "1.0\n",
      "1.0\n",
      "1.0\n",
      "1.0\n",
      "1.0\n",
      "1.0\n",
      "1.0\n",
      "1.0\n",
      "1.0\n",
      "1.0\n",
      "1.0\n",
      "1.0\n",
      "1.0\n",
      "1.0\n",
      "1.0\n",
      "1.0\n",
      "1.0\n",
      "1.0\n",
      "1.0\n",
      "1.0\n",
      "1.0\n",
      "1.0\n",
      "1.0\n",
      "1.0\n",
      "1.0\n",
      "1.0\n",
      "1.0\n",
      "1.0\n",
      "1.0\n",
      "1.0\n",
      "1.0\n",
      "1.0\n",
      "1.0\n",
      "1.0\n",
      "1.0\n",
      "1.0\n",
      "1.0\n",
      "1.0\n",
      "1.0\n",
      "1.0\n",
      "1.0\n",
      "1.0\n",
      "1.0\n",
      "1.0\n",
      "1.0\n",
      "1.0\n",
      "1.0\n",
      "1.0\n",
      "1.0\n",
      "1.0\n",
      "1.0\n",
      "1.0\n",
      "1.0\n",
      "1.0\n",
      "1.0\n",
      "1.0\n",
      "1.0\n",
      "1.0\n",
      "1.0\n",
      "1.0\n",
      "1.0\n",
      "1.0\n",
      "1.0\n",
      "1.0\n",
      "1.0\n",
      "1.0\n",
      "1.0\n",
      "1.0\n",
      "1.0\n",
      "1.0\n",
      "1.0\n",
      "1.0\n",
      "1.0\n",
      "1.0\n",
      "1.0\n",
      "1.0\n",
      "1.0\n",
      "1.0\n",
      "1.0\n",
      "1.0\n",
      "1.0\n",
      "1.0\n",
      "1.0\n",
      "1.0\n",
      "1.0\n",
      "1.0\n",
      "1.0\n",
      "1.0\n",
      "1.0\n",
      "1.0\n",
      "1.0\n",
      "1.0\n",
      "1.0\n",
      "1.0\n",
      "1.0\n",
      "1.0\n",
      "1.0\n",
      "1.0\n",
      "1.0\n",
      "1.0\n",
      "1.0\n",
      "1.0\n",
      "1.0\n",
      "1.0\n",
      "1.0\n",
      "1.0\n",
      "1.0\n",
      "1.0\n",
      "1.0\n",
      "1.0\n",
      "1.0\n",
      "1.0\n",
      "1.0\n",
      "1.0\n",
      "1.0\n",
      "1.0\n",
      "1.0\n",
      "1.0\n",
      "1.0\n",
      "1.0\n",
      "1.0\n",
      "1.0\n",
      "1.0\n",
      "1.0\n",
      "1.0\n",
      "1.0\n",
      "1.0\n",
      "1.0\n",
      "1.0\n",
      "1.0\n",
      "1.0\n",
      "1.0\n",
      "1.0\n",
      "1.0\n",
      "1.0\n",
      "1.0\n",
      "1.0\n",
      "1.0\n",
      "1.0\n",
      "1.0\n",
      "1.0\n",
      "1.0\n",
      "1.0\n",
      "1.0\n",
      "1.0\n",
      "1.0\n",
      "1.0\n",
      "1.0\n",
      "1.0\n",
      "1.0\n",
      "1.0\n",
      "1.0\n",
      "1.0\n",
      "1.0\n",
      "1.0\n",
      "1.0\n",
      "1.0\n",
      "1.0\n",
      "1.0\n",
      "1.0\n",
      "1.0\n",
      "1.0\n",
      "1.0\n",
      "1.0\n",
      "1.0\n",
      "1.0\n",
      "1.0\n",
      "1.0\n",
      "1.0\n",
      "1.0\n",
      "1.0\n",
      "1.0\n",
      "1.0\n",
      "1.0\n",
      "1.0\n",
      "1.0\n",
      "1.0\n",
      "1.0\n",
      "1.0\n",
      "1.0\n",
      "1.0\n",
      "1.0\n",
      "1.0\n",
      "1.0\n",
      "1.0\n",
      "1.0\n",
      "1.0\n",
      "1.0\n",
      "1.0\n",
      "1.0\n",
      "1.0\n",
      "1.0\n",
      "1.0\n",
      "1.0\n",
      "1.0\n",
      "1.0\n",
      "1.0\n",
      "1.0\n",
      "1.0\n",
      "1.0\n",
      "1.0\n",
      "1.0\n",
      "1.0\n",
      "1.0\n",
      "1.0\n",
      "1.0\n",
      "1.0\n",
      "1.0\n",
      "1.0\n",
      "1.0\n",
      "1.0\n",
      "1.0\n",
      "1.0\n",
      "1.0\n",
      "1.0\n",
      "1.0\n",
      "1.0\n",
      "1.0\n",
      "1.0\n",
      "1.0\n",
      "1.0\n",
      "1.0\n",
      "1.0\n",
      "1.0\n",
      "1.0\n",
      "1.0\n",
      "1.0\n",
      "1.0\n",
      "1.0\n",
      "1.0\n",
      "1.0\n",
      "1.0\n",
      "1.0\n",
      "1.0\n",
      "1.0\n",
      "1.0\n",
      "1.0\n",
      "1.0\n",
      "1.0\n",
      "1.0\n",
      "1.0\n",
      "1.0\n",
      "1.0\n",
      "1.0\n",
      "1.0\n",
      "1.0\n",
      "1.0\n",
      "1.0\n",
      "1.0\n",
      "1.0\n",
      "1.0\n",
      "1.0\n",
      "1.0\n",
      "1.0\n",
      "1.0\n",
      "1.0\n",
      "1.0\n",
      "1.0\n",
      "1.0\n",
      "1.0\n",
      "1.0\n",
      "1.0\n",
      "1.0\n",
      "1.0\n",
      "1.0\n",
      "1.0\n",
      "1.0\n",
      "1.0\n",
      "1.0\n",
      "1.0\n",
      "1.0\n",
      "1.0\n",
      "1.0\n",
      "1.0\n",
      "1.0\n",
      "1.0\n",
      "1.0\n",
      "1.0\n",
      "1.0\n",
      "1.0\n",
      "1.0\n",
      "1.0\n",
      "1.0\n",
      "1.0\n",
      "1.0\n",
      "1.0\n",
      "1.0\n",
      "1.0\n",
      "1.0\n",
      "1.0\n",
      "1.0\n",
      "1.0\n",
      "1.0\n",
      "1.0\n",
      "1.0\n",
      "1.0\n",
      "1.0\n",
      "1.0\n",
      "1.0\n",
      "1.0\n",
      "1.0\n",
      "1.0\n",
      "1.0\n",
      "1.0\n",
      "1.0\n",
      "1.0\n",
      "1.0\n",
      "1.0\n",
      "1.0\n",
      "1.0\n",
      "1.0\n",
      "1.0\n",
      "1.0\n",
      "1.0\n",
      "1.0\n",
      "1.0\n",
      "1.0\n",
      "1.0\n",
      "1.0\n",
      "1.0\n",
      "1.0\n",
      "1.0\n",
      "1.0\n",
      "1.0\n",
      "1.0\n",
      "1.0\n",
      "1.0\n",
      "1.0\n",
      "1.0\n",
      "1.0\n",
      "1.0\n",
      "1.0\n",
      "1.0\n",
      "1.0\n",
      "1.0\n",
      "1.0\n",
      "1.0\n",
      "1.0\n",
      "1.0\n",
      "1.0\n",
      "1.0\n",
      "1.0\n",
      "1.0\n",
      "1.0\n",
      "1.0\n",
      "1.0\n",
      "1.0\n",
      "1.0\n",
      "1.0\n",
      "1.0\n",
      "1.0\n",
      "1.0\n",
      "1.0\n",
      "1.0\n",
      "1.0\n",
      "1.0\n",
      "1.0\n",
      "1.0\n",
      "1.0\n",
      "1.0\n",
      "1.0\n",
      "1.0\n",
      "1.0\n",
      "1.0\n",
      "1.0\n",
      "1.0\n",
      "1.0\n",
      "1.0\n",
      "1.0\n",
      "1.0\n",
      "1.0\n",
      "1.0\n",
      "1.0\n",
      "1.0\n",
      "1.0\n",
      "1.0\n",
      "1.0\n",
      "1.0\n",
      "1.0\n",
      "1.0\n",
      "1.0\n",
      "1.0\n",
      "1.0\n",
      "1.0\n",
      "1.0\n",
      "1.0\n",
      "1.0\n",
      "1.0\n",
      "1.0\n",
      "1.0\n",
      "1.0\n",
      "1.0\n",
      "1.0\n",
      "1.0\n",
      "1.0\n",
      "1.0\n",
      "1.0\n",
      "1.0\n",
      "1.0\n",
      "1.0\n",
      "1.0\n",
      "1.0\n",
      "1.0\n",
      "1.0\n",
      "1.0\n",
      "1.0\n",
      "1.0\n",
      "1.0\n",
      "1.0\n",
      "1.0\n",
      "1.0\n",
      "1.0\n",
      "1.0\n",
      "1.0\n",
      "1.0\n",
      "1.0\n",
      "1.0\n",
      "1.0\n",
      "1.0\n",
      "1.0\n",
      "1.0\n",
      "1.0\n",
      "1.0\n",
      "1.0\n",
      "1.0\n",
      "1.0\n",
      "1.0\n",
      "1.0\n",
      "1.0\n",
      "1.0\n",
      "1.0\n",
      "1.0\n",
      "1.0\n",
      "1.0\n",
      "1.0\n",
      "1.0\n",
      "1.0\n",
      "1.0\n",
      "1.0\n",
      "1.0\n",
      "1.0\n",
      "1.0\n",
      "1.0\n",
      "1.0\n",
      "1.0\n",
      "1.0\n",
      "1.0\n",
      "1.0\n",
      "1.0\n",
      "1.0\n",
      "1.0\n",
      "1.0\n",
      "1.0\n",
      "1.0\n",
      "1.0\n",
      "1.0\n",
      "1.0\n",
      "1.0\n",
      "1.0\n",
      "1.0\n",
      "1.0\n",
      "1.0\n",
      "1.0\n",
      "1.0\n",
      "1.0\n",
      "1.0\n",
      "1.0\n",
      "1.0\n",
      "1.0\n",
      "1.0\n",
      "1.0\n",
      "1.0\n",
      "1.0\n",
      "1.0\n",
      "1.0\n",
      "1.0\n",
      "1.0\n",
      "1.0\n"
     ]
    }
   ],
   "source": [
    "# Save documents, projecting out laureates share\n",
    "prizes = db.prizes.find({}, [\"laureates.share\"])\n",
    "\n",
    "# Iterate over prizes\n",
    "for prize in prizes:\n",
    "    # Initialize total share\n",
    "    total_share = 0\n",
    "    \n",
    "    # Iterate over laureates for the prize\n",
    "    for laureate in prize['laureates']:\n",
    "        # add the share of the laureate to total_share\n",
    "        total_share += 1 / float(laureate['share'])\n",
    "        \n",
    "    # Print the total share\n",
    "    print(total_share)"
   ]
  },
  {
   "attachments": {},
   "cell_type": "markdown",
   "id": "de7a584f",
   "metadata": {},
   "source": [
    "#### Task 21 - Sort argument"
   ]
  },
  {
   "cell_type": "code",
   "execution_count": 59,
   "id": "b60c35f6",
   "metadata": {},
   "outputs": [
    {
     "name": "stdout",
     "output_type": "stream",
     "text": [
      "{'born': '1916-08-25', 'prizes': [{'year': '1954'}]}\n",
      "{'born': '1915-06-15', 'prizes': [{'year': '1954'}]}\n",
      "{'born': '1901-02-28', 'prizes': [{'year': '1954'}, {'year': '1962'}]}\n",
      "{'born': '1913-07-12', 'prizes': [{'year': '1955'}]}\n",
      "{'born': '1911-01-26', 'prizes': [{'year': '1955'}]}\n"
     ]
    }
   ],
   "source": [
    "# Complete sort: Descending\n",
    "docs = list(db.laureates.find(\n",
    "    {\"born\": {\"$gte\": \"1900\"}, \"prizes.year\": {\"$gte\": \"1954\"}},\n",
    "    {\"born\": 1, \"prizes.year\": 1, \"_id\": 0},\n",
    "    sort=[(\"prizes.year\", 1), (\"born\", -1)]))\n",
    "\n",
    "for doc in docs[:5]: \n",
    "    print(doc)"
   ]
  },
  {
   "cell_type": "code",
   "execution_count": 60,
   "id": "1ea57475",
   "metadata": {},
   "outputs": [
    {
     "name": "stdout",
     "output_type": "stream",
     "text": [
      "{'born': '1901-02-28', 'prizes': [{'year': '1954'}, {'year': '1962'}]}\n",
      "{'born': '1915-06-15', 'prizes': [{'year': '1954'}]}\n",
      "{'born': '1916-08-25', 'prizes': [{'year': '1954'}]}\n",
      "{'born': '1901-05-18', 'prizes': [{'year': '1955'}]}\n",
      "{'born': '1902-04-23', 'prizes': [{'year': '1955'}]}\n"
     ]
    }
   ],
   "source": [
    "# Complete sort: Ascending\n",
    "docs = list(db.laureates.find(\n",
    "    {\"born\": {\"$gte\": \"1900\"}, \"prizes.year\": {\"$gte\": \"1954\"}},\n",
    "    {\"born\": 1, \"prizes.year\": 1, \"_id\": 0},\n",
    "    sort=[(\"prizes.year\", 1), (\"born\", 1)]))\n",
    "\n",
    "for doc in docs[:5]: \n",
    "    print(doc)"
   ]
  },
  {
   "attachments": {},
   "cell_type": "markdown",
   "id": "657ea56e",
   "metadata": {},
   "source": [
    "#### Task 22 - Sort prizes by last name & by year "
   ]
  },
  {
   "cell_type": "code",
   "execution_count": 61,
   "id": "7e1f780b",
   "metadata": {},
   "outputs": [],
   "source": [
    "from operator import itemgetter\n",
    "def all_laureates(prize):  \n",
    "  # sort the laureates by surname\n",
    "  sorted_laureates = sorted(prize[\"laureates\"], key=itemgetter(\"surname\"))\n",
    "  \n",
    "  # extract surnames\n",
    "  surnames = [laureate[\"surname\"] for laureate in sorted_laureates]\n",
    "  \n",
    "  # concatenate surnames separated with \" and \" \n",
    "  all_names = \" and \".join(surnames)\n",
    "  \n",
    "  return all_names"
   ]
  },
  {
   "cell_type": "code",
   "execution_count": 62,
   "id": "62ac09a3",
   "metadata": {},
   "outputs": [
    {
     "name": "stdout",
     "output_type": "stream",
     "text": [
      "1901: Röntgen\n",
      "1902: Lorentz and Zeeman\n",
      "1903: Becquerel and Curie and Curie, née Sklodowska\n",
      "1904: (John William Strutt)\n",
      "1905: von Lenard\n",
      "1906: Thomson\n",
      "1907: Michelson\n",
      "1908: Lippmann\n",
      "1909: Braun and Marconi\n",
      "1910: van der Waals\n",
      "1911: Wien\n",
      "1912: Dalén\n",
      "1913: Kamerlingh Onnes\n",
      "1914: von Laue\n",
      "1915: Bragg and Bragg\n",
      "1917: Barkla\n",
      "1918: Planck\n",
      "1919: Stark\n",
      "1920: Guillaume\n",
      "1921: Einstein\n",
      "1922: Bohr\n",
      "1923: Millikan\n",
      "1924: Siegbahn\n",
      "1925: Franck and Hertz\n",
      "1926: Perrin\n",
      "1927: Compton and Wilson\n",
      "1928: Richardson\n",
      "1929: de Broglie\n",
      "1930: Raman\n",
      "1932: Heisenberg\n",
      "1933: Dirac and Schrödinger\n",
      "1935: Chadwick\n",
      "1936: Anderson and Hess\n",
      "1937: Davisson and Thomson\n",
      "1938: Fermi\n",
      "1939: Lawrence\n",
      "1943: Stern\n",
      "1944: Rabi\n",
      "1945: Pauli\n",
      "1946: Bridgman\n",
      "1947: Appleton\n",
      "1948: Blackett\n",
      "1949: Yukawa\n",
      "1950: Powell\n",
      "1951: Cockcroft and Walton\n",
      "1952: Bloch and Purcell\n",
      "1953: Zernike\n",
      "1954: Born and Bothe\n",
      "1955: Kusch and Lamb\n",
      "1956: Bardeen and Brattain and Shockley\n",
      "1957: Lee and Yang\n",
      "1958: Cherenkov and Frank and Tamm\n",
      "1959: Chamberlain and Segrè\n",
      "1960: Glaser\n",
      "1961: Hofstadter and Mössbauer\n",
      "1962: Landau\n",
      "1963: Goeppert Mayer and Jensen and Wigner\n",
      "1964: Basov and Prokhorov and Townes\n",
      "1965: Feynman and Schwinger and Tomonaga\n",
      "1966: Kastler\n",
      "1967: Bethe\n",
      "1968: Alvarez\n",
      "1969: Gell-Mann\n",
      "1970: Alfvén and Néel\n",
      "1971: Gabor\n",
      "1972: Bardeen and Cooper and Schrieffer\n",
      "1973: Esaki and Giaever and Josephson\n",
      "1974: Hewish and Ryle\n",
      "1975: Bohr and Mottelson and Rainwater\n",
      "1976: Richter and Ting\n",
      "1977: Anderson and Mott and van Vleck\n",
      "1978: Kapitsa and Penzias and Wilson\n",
      "1979: Glashow and Salam and Weinberg\n",
      "1980: Cronin and Fitch\n",
      "1981: Bloembergen and Schawlow and Siegbahn\n",
      "1982: Wilson\n",
      "1983: Chandrasekhar and Fowler\n",
      "1984: Rubbia and van der Meer\n",
      "1985: von Klitzing\n",
      "1986: Binnig and Rohrer and Ruska\n",
      "1987: Bednorz and Müller\n",
      "1988: Lederman and Schwartz and Steinberger\n",
      "1989: Dehmelt and Paul and Ramsey\n",
      "1990: Friedman and Kendall and Taylor\n",
      "1991: de Gennes\n",
      "1992: Charpak\n",
      "1993: Hulse and Taylor Jr.\n",
      "1994: Brockhouse and Shull\n",
      "1995: Perl and Reines\n",
      "1996: Lee and Osheroff and Richardson\n",
      "1997: Chu and Cohen-Tannoudji and Phillips\n",
      "1998: Laughlin and Störmer and Tsui\n",
      "1999: 't Hooft and Veltman\n",
      "2000: Alferov and Kilby and Kroemer\n",
      "2001: Cornell and Ketterle and Wieman\n",
      "2002: Davis Jr. and Giacconi and Koshiba\n",
      "2003: Abrikosov and Ginzburg and Leggett\n",
      "2004: Gross and Politzer and Wilczek\n",
      "2005: Glauber and Hall and Hänsch\n",
      "2006: Mather and Smoot\n",
      "2007: Fert and Grünberg\n",
      "2008: Kobayashi and Maskawa and Nambu\n",
      "2009: Boyle and Kao and Smith\n",
      "2010: Geim and Novoselov\n",
      "2011: Perlmutter and Riess and Schmidt\n",
      "2012: Haroche and Wineland\n",
      "2013: Englert and Higgs\n",
      "2014: Akasaki and Amano and Nakamura\n",
      "2015: Kajita and McDonald\n",
      "2016: Haldane and Kosterlitz and Thouless\n",
      "2017: Barish and Thorne and Weiss\n",
      "2018: Ashkin and Mourou and Strickland\n"
     ]
    }
   ],
   "source": [
    "# find physics prizes, project year and name, and sort by year\n",
    "docs = db.prizes.find(\n",
    "           filter= {\"category\": \"physics\"}, \n",
    "           projection= [\"year\", \"laureates.firstname\", \"laureates.surname\"], \n",
    "           sort= [(\"year\", 1)])\n",
    "\n",
    "# print the year and laureate names (from all_laureates)\n",
    "for doc in docs:\n",
    "  print(\"{year}: {names}\".format(year=doc[\"year\"], names=all_laureates(doc)))"
   ]
  },
  {
   "attachments": {},
   "cell_type": "markdown",
   "id": "842dd81f",
   "metadata": {},
   "source": [
    "#### Task 23 - Missing categories & years"
   ]
  },
  {
   "cell_type": "code",
   "execution_count": 63,
   "id": "428a7b5e",
   "metadata": {},
   "outputs": [
    {
     "name": "stdout",
     "output_type": "stream",
     "text": [
      "['chemistry', 'literature', 'medicine', 'peace', 'physics']\n"
     ]
    }
   ],
   "source": [
    "# original prize categories from 1901\n",
    "original_categories = db.prizes.distinct(\"category\", {\"year\": \"1901\"})\n",
    "print(original_categories)"
   ]
  },
  {
   "cell_type": "code",
   "execution_count": 64,
   "id": "c0c71c6c",
   "metadata": {},
   "outputs": [
    {
     "name": "stdout",
     "output_type": "stream",
     "text": [
      "{'year': '2018', 'category': 'chemistry'}\n",
      "{'year': '2018', 'category': 'economics'}\n",
      "{'year': '2018', 'category': 'medicine'}\n",
      "{'year': '2018', 'category': 'peace'}\n",
      "{'year': '2018', 'category': 'physics'}\n",
      "{'year': '2017', 'category': 'chemistry'}\n",
      "{'year': '2017', 'category': 'economics'}\n",
      "{'year': '2017', 'category': 'literature'}\n",
      "{'year': '2017', 'category': 'medicine'}\n",
      "{'year': '2017', 'category': 'peace'}\n",
      "{'year': '2017', 'category': 'physics'}\n",
      "{'year': '2016', 'category': 'chemistry'}\n",
      "{'year': '2016', 'category': 'economics'}\n",
      "{'year': '2016', 'category': 'literature'}\n",
      "{'year': '2016', 'category': 'medicine'}\n",
      "{'year': '2016', 'category': 'peace'}\n",
      "{'year': '2016', 'category': 'physics'}\n",
      "{'year': '2015', 'category': 'chemistry'}\n",
      "{'year': '2015', 'category': 'economics'}\n",
      "{'year': '2015', 'category': 'literature'}\n",
      "{'year': '2015', 'category': 'medicine'}\n",
      "{'year': '2015', 'category': 'peace'}\n",
      "{'year': '2015', 'category': 'physics'}\n",
      "{'year': '2014', 'category': 'chemistry'}\n",
      "{'year': '2014', 'category': 'economics'}\n",
      "{'year': '2014', 'category': 'literature'}\n",
      "{'year': '2014', 'category': 'medicine'}\n",
      "{'year': '2014', 'category': 'peace'}\n",
      "{'year': '2014', 'category': 'physics'}\n",
      "{'year': '2013', 'category': 'chemistry'}\n",
      "{'year': '2013', 'category': 'economics'}\n",
      "{'year': '2013', 'category': 'literature'}\n",
      "{'year': '2013', 'category': 'medicine'}\n",
      "{'year': '2013', 'category': 'peace'}\n",
      "{'year': '2013', 'category': 'physics'}\n",
      "{'year': '2012', 'category': 'chemistry'}\n",
      "{'year': '2012', 'category': 'economics'}\n",
      "{'year': '2012', 'category': 'literature'}\n",
      "{'year': '2012', 'category': 'medicine'}\n",
      "{'year': '2012', 'category': 'peace'}\n",
      "{'year': '2012', 'category': 'physics'}\n",
      "{'year': '2011', 'category': 'chemistry'}\n",
      "{'year': '2011', 'category': 'economics'}\n",
      "{'year': '2011', 'category': 'literature'}\n",
      "{'year': '2011', 'category': 'medicine'}\n",
      "{'year': '2011', 'category': 'peace'}\n",
      "{'year': '2011', 'category': 'physics'}\n",
      "{'year': '2010', 'category': 'chemistry'}\n",
      "{'year': '2010', 'category': 'economics'}\n",
      "{'year': '2010', 'category': 'literature'}\n",
      "{'year': '2010', 'category': 'medicine'}\n",
      "{'year': '2010', 'category': 'peace'}\n",
      "{'year': '2010', 'category': 'physics'}\n",
      "{'year': '2009', 'category': 'chemistry'}\n",
      "{'year': '2009', 'category': 'economics'}\n",
      "{'year': '2009', 'category': 'literature'}\n",
      "{'year': '2009', 'category': 'medicine'}\n",
      "{'year': '2009', 'category': 'peace'}\n",
      "{'year': '2009', 'category': 'physics'}\n",
      "{'year': '2008', 'category': 'chemistry'}\n",
      "{'year': '2008', 'category': 'economics'}\n",
      "{'year': '2008', 'category': 'literature'}\n",
      "{'year': '2008', 'category': 'medicine'}\n",
      "{'year': '2008', 'category': 'peace'}\n",
      "{'year': '2008', 'category': 'physics'}\n",
      "{'year': '2007', 'category': 'chemistry'}\n",
      "{'year': '2007', 'category': 'economics'}\n",
      "{'year': '2007', 'category': 'literature'}\n",
      "{'year': '2007', 'category': 'medicine'}\n",
      "{'year': '2007', 'category': 'peace'}\n",
      "{'year': '2007', 'category': 'physics'}\n",
      "{'year': '2006', 'category': 'chemistry'}\n",
      "{'year': '2006', 'category': 'economics'}\n",
      "{'year': '2006', 'category': 'literature'}\n",
      "{'year': '2006', 'category': 'medicine'}\n",
      "{'year': '2006', 'category': 'peace'}\n",
      "{'year': '2006', 'category': 'physics'}\n",
      "{'year': '2005', 'category': 'chemistry'}\n",
      "{'year': '2005', 'category': 'economics'}\n",
      "{'year': '2005', 'category': 'literature'}\n",
      "{'year': '2005', 'category': 'medicine'}\n",
      "{'year': '2005', 'category': 'peace'}\n",
      "{'year': '2005', 'category': 'physics'}\n",
      "{'year': '2004', 'category': 'chemistry'}\n",
      "{'year': '2004', 'category': 'economics'}\n",
      "{'year': '2004', 'category': 'literature'}\n",
      "{'year': '2004', 'category': 'medicine'}\n",
      "{'year': '2004', 'category': 'peace'}\n",
      "{'year': '2004', 'category': 'physics'}\n",
      "{'year': '2003', 'category': 'chemistry'}\n",
      "{'year': '2003', 'category': 'economics'}\n",
      "{'year': '2003', 'category': 'literature'}\n",
      "{'year': '2003', 'category': 'medicine'}\n",
      "{'year': '2003', 'category': 'peace'}\n",
      "{'year': '2003', 'category': 'physics'}\n",
      "{'year': '2002', 'category': 'chemistry'}\n",
      "{'year': '2002', 'category': 'economics'}\n",
      "{'year': '2002', 'category': 'literature'}\n",
      "{'year': '2002', 'category': 'medicine'}\n",
      "{'year': '2002', 'category': 'peace'}\n",
      "{'year': '2002', 'category': 'physics'}\n",
      "{'year': '2001', 'category': 'chemistry'}\n",
      "{'year': '2001', 'category': 'economics'}\n",
      "{'year': '2001', 'category': 'literature'}\n",
      "{'year': '2001', 'category': 'medicine'}\n",
      "{'year': '2001', 'category': 'peace'}\n",
      "{'year': '2001', 'category': 'physics'}\n",
      "{'year': '2000', 'category': 'chemistry'}\n",
      "{'year': '2000', 'category': 'economics'}\n",
      "{'year': '2000', 'category': 'literature'}\n",
      "{'year': '2000', 'category': 'medicine'}\n",
      "{'year': '2000', 'category': 'peace'}\n",
      "{'year': '2000', 'category': 'physics'}\n",
      "{'year': '1999', 'category': 'chemistry'}\n",
      "{'year': '1999', 'category': 'economics'}\n",
      "{'year': '1999', 'category': 'literature'}\n",
      "{'year': '1999', 'category': 'medicine'}\n",
      "{'year': '1999', 'category': 'peace'}\n",
      "{'year': '1999', 'category': 'physics'}\n",
      "{'year': '1998', 'category': 'chemistry'}\n",
      "{'year': '1998', 'category': 'economics'}\n",
      "{'year': '1998', 'category': 'literature'}\n",
      "{'year': '1998', 'category': 'medicine'}\n",
      "{'year': '1998', 'category': 'peace'}\n",
      "{'year': '1998', 'category': 'physics'}\n",
      "{'year': '1997', 'category': 'chemistry'}\n",
      "{'year': '1997', 'category': 'economics'}\n",
      "{'year': '1997', 'category': 'literature'}\n",
      "{'year': '1997', 'category': 'medicine'}\n",
      "{'year': '1997', 'category': 'peace'}\n",
      "{'year': '1997', 'category': 'physics'}\n",
      "{'year': '1996', 'category': 'chemistry'}\n",
      "{'year': '1996', 'category': 'economics'}\n",
      "{'year': '1996', 'category': 'literature'}\n",
      "{'year': '1996', 'category': 'medicine'}\n",
      "{'year': '1996', 'category': 'peace'}\n",
      "{'year': '1996', 'category': 'physics'}\n",
      "{'year': '1995', 'category': 'chemistry'}\n",
      "{'year': '1995', 'category': 'economics'}\n",
      "{'year': '1995', 'category': 'literature'}\n",
      "{'year': '1995', 'category': 'medicine'}\n",
      "{'year': '1995', 'category': 'peace'}\n",
      "{'year': '1995', 'category': 'physics'}\n",
      "{'year': '1994', 'category': 'chemistry'}\n",
      "{'year': '1994', 'category': 'economics'}\n",
      "{'year': '1994', 'category': 'literature'}\n",
      "{'year': '1994', 'category': 'medicine'}\n",
      "{'year': '1994', 'category': 'peace'}\n",
      "{'year': '1994', 'category': 'physics'}\n",
      "{'year': '1993', 'category': 'chemistry'}\n",
      "{'year': '1993', 'category': 'economics'}\n",
      "{'year': '1993', 'category': 'literature'}\n",
      "{'year': '1993', 'category': 'medicine'}\n",
      "{'year': '1993', 'category': 'peace'}\n",
      "{'year': '1993', 'category': 'physics'}\n",
      "{'year': '1992', 'category': 'chemistry'}\n",
      "{'year': '1992', 'category': 'economics'}\n",
      "{'year': '1992', 'category': 'literature'}\n",
      "{'year': '1992', 'category': 'medicine'}\n",
      "{'year': '1992', 'category': 'peace'}\n",
      "{'year': '1992', 'category': 'physics'}\n",
      "{'year': '1991', 'category': 'chemistry'}\n",
      "{'year': '1991', 'category': 'economics'}\n",
      "{'year': '1991', 'category': 'literature'}\n",
      "{'year': '1991', 'category': 'medicine'}\n",
      "{'year': '1991', 'category': 'peace'}\n",
      "{'year': '1991', 'category': 'physics'}\n",
      "{'year': '1990', 'category': 'chemistry'}\n",
      "{'year': '1990', 'category': 'economics'}\n",
      "{'year': '1990', 'category': 'literature'}\n",
      "{'year': '1990', 'category': 'medicine'}\n",
      "{'year': '1990', 'category': 'peace'}\n",
      "{'year': '1990', 'category': 'physics'}\n",
      "{'year': '1989', 'category': 'chemistry'}\n",
      "{'year': '1989', 'category': 'economics'}\n",
      "{'year': '1989', 'category': 'literature'}\n",
      "{'year': '1989', 'category': 'medicine'}\n",
      "{'year': '1989', 'category': 'peace'}\n",
      "{'year': '1989', 'category': 'physics'}\n",
      "{'year': '1988', 'category': 'chemistry'}\n",
      "{'year': '1988', 'category': 'economics'}\n",
      "{'year': '1988', 'category': 'literature'}\n",
      "{'year': '1988', 'category': 'medicine'}\n",
      "{'year': '1988', 'category': 'peace'}\n",
      "{'year': '1988', 'category': 'physics'}\n",
      "{'year': '1987', 'category': 'chemistry'}\n",
      "{'year': '1987', 'category': 'economics'}\n",
      "{'year': '1987', 'category': 'literature'}\n",
      "{'year': '1987', 'category': 'medicine'}\n",
      "{'year': '1987', 'category': 'peace'}\n",
      "{'year': '1987', 'category': 'physics'}\n",
      "{'year': '1986', 'category': 'chemistry'}\n",
      "{'year': '1986', 'category': 'economics'}\n",
      "{'year': '1986', 'category': 'literature'}\n",
      "{'year': '1986', 'category': 'medicine'}\n",
      "{'year': '1986', 'category': 'peace'}\n",
      "{'year': '1986', 'category': 'physics'}\n",
      "{'year': '1985', 'category': 'chemistry'}\n",
      "{'year': '1985', 'category': 'economics'}\n",
      "{'year': '1985', 'category': 'literature'}\n",
      "{'year': '1985', 'category': 'medicine'}\n",
      "{'year': '1985', 'category': 'peace'}\n",
      "{'year': '1985', 'category': 'physics'}\n",
      "{'year': '1984', 'category': 'chemistry'}\n",
      "{'year': '1984', 'category': 'economics'}\n",
      "{'year': '1984', 'category': 'literature'}\n",
      "{'year': '1984', 'category': 'medicine'}\n",
      "{'year': '1984', 'category': 'peace'}\n",
      "{'year': '1984', 'category': 'physics'}\n",
      "{'year': '1983', 'category': 'chemistry'}\n",
      "{'year': '1983', 'category': 'economics'}\n",
      "{'year': '1983', 'category': 'literature'}\n",
      "{'year': '1983', 'category': 'medicine'}\n",
      "{'year': '1983', 'category': 'peace'}\n",
      "{'year': '1983', 'category': 'physics'}\n",
      "{'year': '1982', 'category': 'chemistry'}\n",
      "{'year': '1982', 'category': 'economics'}\n",
      "{'year': '1982', 'category': 'literature'}\n",
      "{'year': '1982', 'category': 'medicine'}\n",
      "{'year': '1982', 'category': 'peace'}\n",
      "{'year': '1982', 'category': 'physics'}\n",
      "{'year': '1981', 'category': 'chemistry'}\n",
      "{'year': '1981', 'category': 'economics'}\n",
      "{'year': '1981', 'category': 'literature'}\n",
      "{'year': '1981', 'category': 'medicine'}\n",
      "{'year': '1981', 'category': 'peace'}\n",
      "{'year': '1981', 'category': 'physics'}\n",
      "{'year': '1980', 'category': 'chemistry'}\n",
      "{'year': '1980', 'category': 'economics'}\n",
      "{'year': '1980', 'category': 'literature'}\n",
      "{'year': '1980', 'category': 'medicine'}\n",
      "{'year': '1980', 'category': 'peace'}\n",
      "{'year': '1980', 'category': 'physics'}\n",
      "{'year': '1979', 'category': 'chemistry'}\n",
      "{'year': '1979', 'category': 'economics'}\n",
      "{'year': '1979', 'category': 'literature'}\n",
      "{'year': '1979', 'category': 'medicine'}\n",
      "{'year': '1979', 'category': 'peace'}\n",
      "{'year': '1979', 'category': 'physics'}\n",
      "{'year': '1978', 'category': 'chemistry'}\n",
      "{'year': '1978', 'category': 'economics'}\n",
      "{'year': '1978', 'category': 'literature'}\n",
      "{'year': '1978', 'category': 'medicine'}\n",
      "{'year': '1978', 'category': 'peace'}\n",
      "{'year': '1978', 'category': 'physics'}\n",
      "{'year': '1977', 'category': 'chemistry'}\n",
      "{'year': '1977', 'category': 'economics'}\n",
      "{'year': '1977', 'category': 'literature'}\n",
      "{'year': '1977', 'category': 'medicine'}\n",
      "{'year': '1977', 'category': 'peace'}\n",
      "{'year': '1977', 'category': 'physics'}\n",
      "{'year': '1976', 'category': 'chemistry'}\n",
      "{'year': '1976', 'category': 'economics'}\n",
      "{'year': '1976', 'category': 'literature'}\n",
      "{'year': '1976', 'category': 'medicine'}\n",
      "{'year': '1976', 'category': 'peace'}\n",
      "{'year': '1976', 'category': 'physics'}\n",
      "{'year': '1975', 'category': 'chemistry'}\n",
      "{'year': '1975', 'category': 'economics'}\n",
      "{'year': '1975', 'category': 'literature'}\n",
      "{'year': '1975', 'category': 'medicine'}\n",
      "{'year': '1975', 'category': 'peace'}\n",
      "{'year': '1975', 'category': 'physics'}\n",
      "{'year': '1974', 'category': 'chemistry'}\n",
      "{'year': '1974', 'category': 'economics'}\n",
      "{'year': '1974', 'category': 'literature'}\n",
      "{'year': '1974', 'category': 'medicine'}\n",
      "{'year': '1974', 'category': 'peace'}\n",
      "{'year': '1974', 'category': 'physics'}\n",
      "{'year': '1973', 'category': 'chemistry'}\n",
      "{'year': '1973', 'category': 'economics'}\n",
      "{'year': '1973', 'category': 'literature'}\n",
      "{'year': '1973', 'category': 'medicine'}\n",
      "{'year': '1973', 'category': 'peace'}\n",
      "{'year': '1973', 'category': 'physics'}\n",
      "{'year': '1972', 'category': 'chemistry'}\n",
      "{'year': '1972', 'category': 'economics'}\n",
      "{'year': '1972', 'category': 'literature'}\n",
      "{'year': '1972', 'category': 'medicine'}\n",
      "{'year': '1972', 'category': 'physics'}\n",
      "{'year': '1971', 'category': 'chemistry'}\n",
      "{'year': '1971', 'category': 'economics'}\n",
      "{'year': '1971', 'category': 'literature'}\n",
      "{'year': '1971', 'category': 'medicine'}\n",
      "{'year': '1971', 'category': 'peace'}\n",
      "{'year': '1971', 'category': 'physics'}\n",
      "{'year': '1970', 'category': 'chemistry'}\n",
      "{'year': '1970', 'category': 'economics'}\n",
      "{'year': '1970', 'category': 'literature'}\n",
      "{'year': '1970', 'category': 'medicine'}\n",
      "{'year': '1970', 'category': 'peace'}\n",
      "{'year': '1970', 'category': 'physics'}\n",
      "{'year': '1969', 'category': 'chemistry'}\n",
      "{'year': '1969', 'category': 'economics'}\n",
      "{'year': '1969', 'category': 'literature'}\n",
      "{'year': '1969', 'category': 'medicine'}\n",
      "{'year': '1969', 'category': 'peace'}\n",
      "{'year': '1969', 'category': 'physics'}\n",
      "{'year': '1968', 'category': 'chemistry'}\n",
      "{'year': '1968', 'category': 'literature'}\n",
      "{'year': '1968', 'category': 'medicine'}\n",
      "{'year': '1968', 'category': 'peace'}\n",
      "{'year': '1968', 'category': 'physics'}\n",
      "{'year': '1967', 'category': 'chemistry'}\n",
      "{'year': '1967', 'category': 'literature'}\n",
      "{'year': '1967', 'category': 'medicine'}\n",
      "{'year': '1967', 'category': 'physics'}\n",
      "{'year': '1966', 'category': 'chemistry'}\n",
      "{'year': '1966', 'category': 'literature'}\n",
      "{'year': '1966', 'category': 'medicine'}\n",
      "{'year': '1966', 'category': 'physics'}\n",
      "{'year': '1965', 'category': 'chemistry'}\n",
      "{'year': '1965', 'category': 'literature'}\n",
      "{'year': '1965', 'category': 'medicine'}\n",
      "{'year': '1965', 'category': 'peace'}\n",
      "{'year': '1965', 'category': 'physics'}\n",
      "{'year': '1964', 'category': 'chemistry'}\n",
      "{'year': '1964', 'category': 'literature'}\n",
      "{'year': '1964', 'category': 'medicine'}\n",
      "{'year': '1964', 'category': 'peace'}\n",
      "{'year': '1964', 'category': 'physics'}\n",
      "{'year': '1963', 'category': 'chemistry'}\n",
      "{'year': '1963', 'category': 'literature'}\n",
      "{'year': '1963', 'category': 'medicine'}\n",
      "{'year': '1963', 'category': 'peace'}\n",
      "{'year': '1963', 'category': 'physics'}\n",
      "{'year': '1962', 'category': 'chemistry'}\n",
      "{'year': '1962', 'category': 'literature'}\n",
      "{'year': '1962', 'category': 'medicine'}\n",
      "{'year': '1962', 'category': 'peace'}\n",
      "{'year': '1962', 'category': 'physics'}\n",
      "{'year': '1961', 'category': 'chemistry'}\n",
      "{'year': '1961', 'category': 'literature'}\n",
      "{'year': '1961', 'category': 'medicine'}\n",
      "{'year': '1961', 'category': 'peace'}\n",
      "{'year': '1961', 'category': 'physics'}\n",
      "{'year': '1960', 'category': 'chemistry'}\n",
      "{'year': '1960', 'category': 'literature'}\n",
      "{'year': '1960', 'category': 'medicine'}\n",
      "{'year': '1960', 'category': 'peace'}\n",
      "{'year': '1960', 'category': 'physics'}\n",
      "{'year': '1959', 'category': 'chemistry'}\n",
      "{'year': '1959', 'category': 'literature'}\n",
      "{'year': '1959', 'category': 'medicine'}\n",
      "{'year': '1959', 'category': 'peace'}\n",
      "{'year': '1959', 'category': 'physics'}\n",
      "{'year': '1958', 'category': 'chemistry'}\n",
      "{'year': '1958', 'category': 'literature'}\n",
      "{'year': '1958', 'category': 'medicine'}\n",
      "{'year': '1958', 'category': 'peace'}\n",
      "{'year': '1958', 'category': 'physics'}\n",
      "{'year': '1957', 'category': 'chemistry'}\n",
      "{'year': '1957', 'category': 'literature'}\n",
      "{'year': '1957', 'category': 'medicine'}\n",
      "{'year': '1957', 'category': 'peace'}\n",
      "{'year': '1957', 'category': 'physics'}\n",
      "{'year': '1956', 'category': 'chemistry'}\n",
      "{'year': '1956', 'category': 'literature'}\n",
      "{'year': '1956', 'category': 'medicine'}\n",
      "{'year': '1956', 'category': 'physics'}\n",
      "{'year': '1955', 'category': 'chemistry'}\n",
      "{'year': '1955', 'category': 'literature'}\n",
      "{'year': '1955', 'category': 'medicine'}\n",
      "{'year': '1955', 'category': 'physics'}\n",
      "{'year': '1954', 'category': 'chemistry'}\n",
      "{'year': '1954', 'category': 'literature'}\n",
      "{'year': '1954', 'category': 'medicine'}\n",
      "{'year': '1954', 'category': 'peace'}\n",
      "{'year': '1954', 'category': 'physics'}\n",
      "{'year': '1953', 'category': 'chemistry'}\n",
      "{'year': '1953', 'category': 'literature'}\n",
      "{'year': '1953', 'category': 'medicine'}\n",
      "{'year': '1953', 'category': 'peace'}\n",
      "{'year': '1953', 'category': 'physics'}\n",
      "{'year': '1952', 'category': 'chemistry'}\n",
      "{'year': '1952', 'category': 'literature'}\n",
      "{'year': '1952', 'category': 'medicine'}\n",
      "{'year': '1952', 'category': 'peace'}\n",
      "{'year': '1952', 'category': 'physics'}\n",
      "{'year': '1951', 'category': 'chemistry'}\n",
      "{'year': '1951', 'category': 'literature'}\n",
      "{'year': '1951', 'category': 'medicine'}\n",
      "{'year': '1951', 'category': 'peace'}\n",
      "{'year': '1951', 'category': 'physics'}\n",
      "{'year': '1950', 'category': 'chemistry'}\n",
      "{'year': '1950', 'category': 'literature'}\n",
      "{'year': '1950', 'category': 'medicine'}\n",
      "{'year': '1950', 'category': 'peace'}\n",
      "{'year': '1950', 'category': 'physics'}\n",
      "{'year': '1949', 'category': 'chemistry'}\n",
      "{'year': '1949', 'category': 'literature'}\n",
      "{'year': '1949', 'category': 'medicine'}\n",
      "{'year': '1949', 'category': 'peace'}\n",
      "{'year': '1949', 'category': 'physics'}\n",
      "{'year': '1948', 'category': 'chemistry'}\n",
      "{'year': '1948', 'category': 'literature'}\n",
      "{'year': '1948', 'category': 'medicine'}\n",
      "{'year': '1948', 'category': 'physics'}\n",
      "{'year': '1947', 'category': 'chemistry'}\n",
      "{'year': '1947', 'category': 'literature'}\n",
      "{'year': '1947', 'category': 'medicine'}\n",
      "{'year': '1947', 'category': 'peace'}\n",
      "{'year': '1947', 'category': 'physics'}\n",
      "{'year': '1946', 'category': 'chemistry'}\n",
      "{'year': '1946', 'category': 'literature'}\n",
      "{'year': '1946', 'category': 'medicine'}\n",
      "{'year': '1946', 'category': 'peace'}\n",
      "{'year': '1946', 'category': 'physics'}\n",
      "{'year': '1945', 'category': 'chemistry'}\n",
      "{'year': '1945', 'category': 'literature'}\n",
      "{'year': '1945', 'category': 'medicine'}\n",
      "{'year': '1945', 'category': 'peace'}\n",
      "{'year': '1945', 'category': 'physics'}\n",
      "{'year': '1944', 'category': 'chemistry'}\n",
      "{'year': '1944', 'category': 'literature'}\n",
      "{'year': '1944', 'category': 'medicine'}\n",
      "{'year': '1944', 'category': 'peace'}\n",
      "{'year': '1944', 'category': 'physics'}\n",
      "{'year': '1943', 'category': 'chemistry'}\n",
      "{'year': '1943', 'category': 'medicine'}\n",
      "{'year': '1943', 'category': 'physics'}\n",
      "{'year': '1939', 'category': 'chemistry'}\n",
      "{'year': '1939', 'category': 'literature'}\n",
      "{'year': '1939', 'category': 'medicine'}\n",
      "{'year': '1939', 'category': 'physics'}\n",
      "{'year': '1938', 'category': 'chemistry'}\n",
      "{'year': '1938', 'category': 'literature'}\n",
      "{'year': '1938', 'category': 'medicine'}\n",
      "{'year': '1938', 'category': 'peace'}\n",
      "{'year': '1938', 'category': 'physics'}\n",
      "{'year': '1937', 'category': 'chemistry'}\n",
      "{'year': '1937', 'category': 'literature'}\n",
      "{'year': '1937', 'category': 'medicine'}\n",
      "{'year': '1937', 'category': 'peace'}\n",
      "{'year': '1937', 'category': 'physics'}\n",
      "{'year': '1936', 'category': 'chemistry'}\n",
      "{'year': '1936', 'category': 'literature'}\n",
      "{'year': '1936', 'category': 'medicine'}\n",
      "{'year': '1936', 'category': 'peace'}\n",
      "{'year': '1936', 'category': 'physics'}\n",
      "{'year': '1935', 'category': 'chemistry'}\n",
      "{'year': '1935', 'category': 'medicine'}\n",
      "{'year': '1935', 'category': 'peace'}\n",
      "{'year': '1935', 'category': 'physics'}\n",
      "{'year': '1934', 'category': 'chemistry'}\n",
      "{'year': '1934', 'category': 'literature'}\n",
      "{'year': '1934', 'category': 'medicine'}\n",
      "{'year': '1934', 'category': 'peace'}\n",
      "{'year': '1933', 'category': 'literature'}\n",
      "{'year': '1933', 'category': 'medicine'}\n",
      "{'year': '1933', 'category': 'peace'}\n",
      "{'year': '1933', 'category': 'physics'}\n",
      "{'year': '1932', 'category': 'chemistry'}\n",
      "{'year': '1932', 'category': 'literature'}\n",
      "{'year': '1932', 'category': 'medicine'}\n",
      "{'year': '1932', 'category': 'physics'}\n",
      "{'year': '1931', 'category': 'chemistry'}\n",
      "{'year': '1931', 'category': 'literature'}\n",
      "{'year': '1931', 'category': 'medicine'}\n",
      "{'year': '1931', 'category': 'peace'}\n",
      "{'year': '1930', 'category': 'chemistry'}\n",
      "{'year': '1930', 'category': 'literature'}\n",
      "{'year': '1930', 'category': 'medicine'}\n",
      "{'year': '1930', 'category': 'peace'}\n",
      "{'year': '1930', 'category': 'physics'}\n",
      "{'year': '1929', 'category': 'chemistry'}\n",
      "{'year': '1929', 'category': 'literature'}\n",
      "{'year': '1929', 'category': 'medicine'}\n",
      "{'year': '1929', 'category': 'peace'}\n",
      "{'year': '1929', 'category': 'physics'}\n",
      "{'year': '1928', 'category': 'chemistry'}\n",
      "{'year': '1928', 'category': 'literature'}\n",
      "{'year': '1928', 'category': 'medicine'}\n",
      "{'year': '1928', 'category': 'physics'}\n",
      "{'year': '1927', 'category': 'chemistry'}\n",
      "{'year': '1927', 'category': 'literature'}\n",
      "{'year': '1927', 'category': 'medicine'}\n",
      "{'year': '1927', 'category': 'peace'}\n",
      "{'year': '1927', 'category': 'physics'}\n",
      "{'year': '1926', 'category': 'chemistry'}\n",
      "{'year': '1926', 'category': 'literature'}\n",
      "{'year': '1926', 'category': 'medicine'}\n",
      "{'year': '1926', 'category': 'peace'}\n",
      "{'year': '1926', 'category': 'physics'}\n",
      "{'year': '1925', 'category': 'chemistry'}\n",
      "{'year': '1925', 'category': 'literature'}\n",
      "{'year': '1925', 'category': 'peace'}\n",
      "{'year': '1925', 'category': 'physics'}\n",
      "{'year': '1924', 'category': 'literature'}\n",
      "{'year': '1924', 'category': 'medicine'}\n",
      "{'year': '1924', 'category': 'physics'}\n",
      "{'year': '1923', 'category': 'chemistry'}\n",
      "{'year': '1923', 'category': 'literature'}\n",
      "{'year': '1923', 'category': 'medicine'}\n",
      "{'year': '1923', 'category': 'physics'}\n",
      "{'year': '1922', 'category': 'chemistry'}\n",
      "{'year': '1922', 'category': 'literature'}\n",
      "{'year': '1922', 'category': 'medicine'}\n",
      "{'year': '1922', 'category': 'peace'}\n",
      "{'year': '1922', 'category': 'physics'}\n",
      "{'year': '1921', 'category': 'chemistry'}\n",
      "{'year': '1921', 'category': 'literature'}\n",
      "{'year': '1921', 'category': 'peace'}\n",
      "{'year': '1921', 'category': 'physics'}\n",
      "{'year': '1920', 'category': 'chemistry'}\n",
      "{'year': '1920', 'category': 'literature'}\n",
      "{'year': '1920', 'category': 'medicine'}\n",
      "{'year': '1920', 'category': 'peace'}\n",
      "{'year': '1920', 'category': 'physics'}\n",
      "{'year': '1919', 'category': 'literature'}\n",
      "{'year': '1919', 'category': 'medicine'}\n",
      "{'year': '1919', 'category': 'peace'}\n",
      "{'year': '1919', 'category': 'physics'}\n",
      "{'year': '1918', 'category': 'chemistry'}\n",
      "{'year': '1918', 'category': 'physics'}\n",
      "{'year': '1917', 'category': 'literature'}\n",
      "{'year': '1917', 'category': 'peace'}\n",
      "{'year': '1917', 'category': 'physics'}\n",
      "{'year': '1916', 'category': 'literature'}\n",
      "{'year': '1915', 'category': 'chemistry'}\n",
      "{'year': '1915', 'category': 'literature'}\n",
      "{'year': '1915', 'category': 'physics'}\n",
      "{'year': '1914', 'category': 'chemistry'}\n",
      "{'year': '1914', 'category': 'medicine'}\n",
      "{'year': '1914', 'category': 'physics'}\n",
      "{'year': '1913', 'category': 'chemistry'}\n",
      "{'year': '1913', 'category': 'literature'}\n",
      "{'year': '1913', 'category': 'medicine'}\n",
      "{'year': '1913', 'category': 'peace'}\n",
      "{'year': '1913', 'category': 'physics'}\n",
      "{'year': '1912', 'category': 'chemistry'}\n",
      "{'year': '1912', 'category': 'literature'}\n",
      "{'year': '1912', 'category': 'medicine'}\n",
      "{'year': '1912', 'category': 'peace'}\n",
      "{'year': '1912', 'category': 'physics'}\n",
      "{'year': '1911', 'category': 'chemistry'}\n",
      "{'year': '1911', 'category': 'literature'}\n",
      "{'year': '1911', 'category': 'medicine'}\n",
      "{'year': '1911', 'category': 'peace'}\n",
      "{'year': '1911', 'category': 'physics'}\n",
      "{'year': '1910', 'category': 'chemistry'}\n",
      "{'year': '1910', 'category': 'literature'}\n",
      "{'year': '1910', 'category': 'medicine'}\n",
      "{'year': '1910', 'category': 'peace'}\n",
      "{'year': '1910', 'category': 'physics'}\n",
      "{'year': '1909', 'category': 'chemistry'}\n",
      "{'year': '1909', 'category': 'literature'}\n",
      "{'year': '1909', 'category': 'medicine'}\n",
      "{'year': '1909', 'category': 'peace'}\n",
      "{'year': '1909', 'category': 'physics'}\n",
      "{'year': '1908', 'category': 'chemistry'}\n",
      "{'year': '1908', 'category': 'literature'}\n",
      "{'year': '1908', 'category': 'medicine'}\n",
      "{'year': '1908', 'category': 'peace'}\n",
      "{'year': '1908', 'category': 'physics'}\n",
      "{'year': '1907', 'category': 'chemistry'}\n",
      "{'year': '1907', 'category': 'literature'}\n",
      "{'year': '1907', 'category': 'medicine'}\n",
      "{'year': '1907', 'category': 'peace'}\n",
      "{'year': '1907', 'category': 'physics'}\n",
      "{'year': '1906', 'category': 'chemistry'}\n",
      "{'year': '1906', 'category': 'literature'}\n",
      "{'year': '1906', 'category': 'medicine'}\n",
      "{'year': '1906', 'category': 'peace'}\n",
      "{'year': '1906', 'category': 'physics'}\n",
      "{'year': '1905', 'category': 'chemistry'}\n",
      "{'year': '1905', 'category': 'literature'}\n",
      "{'year': '1905', 'category': 'medicine'}\n",
      "{'year': '1905', 'category': 'peace'}\n",
      "{'year': '1905', 'category': 'physics'}\n",
      "{'year': '1904', 'category': 'chemistry'}\n",
      "{'year': '1904', 'category': 'literature'}\n",
      "{'year': '1904', 'category': 'medicine'}\n",
      "{'year': '1904', 'category': 'peace'}\n",
      "{'year': '1904', 'category': 'physics'}\n",
      "{'year': '1903', 'category': 'chemistry'}\n",
      "{'year': '1903', 'category': 'literature'}\n",
      "{'year': '1903', 'category': 'medicine'}\n",
      "{'year': '1903', 'category': 'peace'}\n",
      "{'year': '1903', 'category': 'physics'}\n",
      "{'year': '1902', 'category': 'chemistry'}\n",
      "{'year': '1902', 'category': 'literature'}\n",
      "{'year': '1902', 'category': 'medicine'}\n",
      "{'year': '1902', 'category': 'peace'}\n",
      "{'year': '1902', 'category': 'physics'}\n",
      "{'year': '1901', 'category': 'chemistry'}\n",
      "{'year': '1901', 'category': 'literature'}\n",
      "{'year': '1901', 'category': 'medicine'}\n",
      "{'year': '1901', 'category': 'peace'}\n",
      "{'year': '1901', 'category': 'physics'}\n"
     ]
    }
   ],
   "source": [
    "# project year and category, and sort\n",
    "docs = db.prizes.find(\n",
    "        projection={\"year\":1, \"category\":1, \"_id\":0},\n",
    "        sort=[(\"year\", -1), (\"category\", 1)])\n",
    "\n",
    "#print the documents\n",
    "for doc in docs:\n",
    "  print(doc)"
   ]
  },
  {
   "attachments": {},
   "cell_type": "markdown",
   "id": "4406e3ea",
   "metadata": {},
   "source": [
    "#### Task 24 - Single prizes"
   ]
  },
  {
   "cell_type": "code",
   "execution_count": 65,
   "id": "4505e68c",
   "metadata": {},
   "outputs": [
    {
     "name": "stdout",
     "output_type": "stream",
     "text": [
      "chemistry: 2011\n",
      "economics: 2017\n",
      "literature: 2017\n",
      "medicine: 2016\n",
      "peace: 2017\n",
      "physics: 1992\n",
      "\n"
     ]
    }
   ],
   "source": [
    "# Specify an index model for compound sorting\n",
    "index_model = [(\"category\", 1), (\"year\", -1)]\n",
    "db.prizes.create_index(index_model)\n",
    "\n",
    "# Collect the last single-laureate year for each category\n",
    "report = \"\"\n",
    "for category in sorted(db.prizes.distinct(\"category\")):\n",
    "    doc = db.prizes.find_one(\n",
    "        {\"category\": category, \"laureates.share\": \"1\"},\n",
    "        sort=[(\"year\", -1)]\n",
    "    )\n",
    "    report += \"{category}: {year}\\n\".format(**doc)\n",
    "\n",
    "print(report)\n"
   ]
  },
  {
   "attachments": {},
   "cell_type": "markdown",
   "id": "4586ba27",
   "metadata": {},
   "source": [
    "#### Task 25 - Country of birth & affiliation"
   ]
  },
  {
   "cell_type": "code",
   "execution_count": 66,
   "id": "34e4c842",
   "metadata": {},
   "outputs": [
    {
     "name": "stdout",
     "output_type": "stream",
     "text": [
      "[('USA', 241), ('United Kingdom', 56), ('France', 26), ('Germany', 19), ('Japan', 17)]\n"
     ]
    }
   ],
   "source": [
    "from collections import Counter\n",
    "\n",
    "# Ensure an index on country of birth\n",
    "db.laureates.create_index([(\"bornCountry\", 1)])\n",
    "\n",
    "# Collect a count of laureates for each country of birth\n",
    "n_born_and_affiliated = {\n",
    "    country: db.laureates.count_documents({\n",
    "        \"bornCountry\": country,\n",
    "        \"prizes.affiliations.country\": country\n",
    "    })\n",
    "    for country in db.laureates.distinct(\"bornCountry\")\n",
    "}\n",
    "\n",
    "five_most_common = Counter(n_born_and_affiliated).most_common(5)\n",
    "print(five_most_common)"
   ]
  },
  {
   "attachments": {},
   "cell_type": "markdown",
   "id": "367c05a9",
   "metadata": {},
   "source": [
    "#### Task 26 - Limit return"
   ]
  },
  {
   "cell_type": "code",
   "execution_count": 67,
   "id": "23168110",
   "metadata": {},
   "outputs": [
    {
     "data": {
      "text/plain": [
       "[{'year': '1969'},\n",
       " {'year': '1970'},\n",
       " {'year': '1971'},\n",
       " {'year': '1972'},\n",
       " {'year': '1973'}]"
      ]
     },
     "execution_count": 67,
     "metadata": {},
     "output_type": "execute_result"
    }
   ],
   "source": [
    "# 5 documents will return from below expression\n",
    "list(db.prizes.find({\"category\": \"economics\"},                     \n",
    "                    {\"year\": 1, \"_id\": 0})      \n",
    "     .sort(\"year\")\n",
    "     .limit(3)\n",
    "     .limit(5))"
   ]
  },
  {
   "attachments": {},
   "cell_type": "markdown",
   "id": "23c7f7b7",
   "metadata": {},
   "source": [
    "#### Task 27 - The 1st 5 prizes with 1/4 shares"
   ]
  },
  {
   "cell_type": "code",
   "execution_count": 68,
   "id": "2c53a0c9",
   "metadata": {},
   "outputs": [
    {
     "name": "stdout",
     "output_type": "stream",
     "text": [
      "[{'_id': ObjectId('63d9c9fc42b546d870b8381e'),\n",
      "  'category': 'physics',\n",
      "  'laureates': [{'motivation': '\"in recognition of the extraordinary services '\n",
      "                               'he has rendered by his discovery of '\n",
      "                               'spontaneous radioactivity\"'},\n",
      "                {'motivation': '\"in recognition of the extraordinary services '\n",
      "                               'they have rendered by their joint researches '\n",
      "                               'on the radiation phenomena discovered by '\n",
      "                               'Professor Henri Becquerel\"'},\n",
      "                {'motivation': '\"in recognition of the extraordinary services '\n",
      "                               'they have rendered by their joint researches '\n",
      "                               'on the radiation phenomena discovered by '\n",
      "                               'Professor Henri Becquerel\"'}],\n",
      "  'year': '1903'},\n",
      " {'_id': ObjectId('63d9c9fc42b546d870b837c5'),\n",
      "  'category': 'chemistry',\n",
      "  'laureates': [{'motivation': '\"for his discovery that enzymes can be '\n",
      "                               'crystallized\"'},\n",
      "                {'motivation': '\"for their preparation of enzymes and virus '\n",
      "                               'proteins in a pure form\"'},\n",
      "                {'motivation': '\"for their preparation of enzymes and virus '\n",
      "                               'proteins in a pure form\"'}],\n",
      "  'year': '1946'},\n",
      " {'_id': ObjectId('63d9c9fc42b546d870b8379e'),\n",
      "  'category': 'medicine',\n",
      "  'laureates': [{'motivation': '\"for their discovery of the course of the '\n",
      "                               'catalytic conversion of glycogen\"'},\n",
      "                {'motivation': '\"for their discovery of the course of the '\n",
      "                               'catalytic conversion of glycogen\"'},\n",
      "                {'motivation': '\"for his discovery of the part played by the '\n",
      "                               'hormone of the anterior pituitary lobe in the '\n",
      "                               'metabolism of sugar\"'}],\n",
      "  'year': '1947'},\n",
      " {'_id': ObjectId('63d9c9fc42b546d870b8377f'),\n",
      "  'category': 'medicine',\n",
      "  'laureates': [{'motivation': '\"for their discovery that genes act by '\n",
      "                               'regulating definite chemical events\"'},\n",
      "                {'motivation': '\"for their discovery that genes act by '\n",
      "                               'regulating definite chemical events\"'},\n",
      "                {'motivation': '\"for his discoveries concerning genetic '\n",
      "                               'recombination and the organization of the '\n",
      "                               'genetic material of bacteria\"'}],\n",
      "  'year': '1958'},\n",
      " {'_id': ObjectId('63d9c9fc42b546d870b8375f'),\n",
      "  'category': 'physics',\n",
      "  'laureates': [{'motivation': '\"for his contributions to the theory of the '\n",
      "                               'atomic nucleus and the elementary particles, '\n",
      "                               'particularly through the discovery and '\n",
      "                               'application of fundamental symmetry '\n",
      "                               'principles\"'},\n",
      "                {'motivation': '\"for their discoveries concerning nuclear '\n",
      "                               'shell structure\"'},\n",
      "                {'motivation': '\"for their discoveries concerning nuclear '\n",
      "                               'shell structure\"'}],\n",
      "  'year': '1963'}]\n"
     ]
    }
   ],
   "source": [
    "from pprint import pprint\n",
    "\n",
    "# Fetch prizes with quarter-share laureate(s)\n",
    "filter_ = {\"laureates.share\": \"4\"}\n",
    "\n",
    "# Save the list of field names\n",
    "projection = [\"category\", \"year\", \"laureates.motivation\"]\n",
    "\n",
    "# Save a cursor to yield the first five prizes\n",
    "cursor = db.prizes.find(filter_, projection).sort(\"year\", 1).limit(5)\n",
    "pprint(list(cursor))"
   ]
  },
  {
   "cell_type": "code",
   "execution_count": 69,
   "id": "7ca9df9f",
   "metadata": {},
   "outputs": [
    {
     "name": "stdout",
     "output_type": "stream",
     "text": [
      "{'_id': ObjectId('63d9c9fc42b546d870b8381e'), 'year': '1903', 'category': 'physics', 'laureates': [{'motivation': '\"in recognition of the extraordinary services he has rendered by his discovery of spontaneous radioactivity\"'}, {'motivation': '\"in recognition of the extraordinary services they have rendered by their joint researches on the radiation phenomena discovered by Professor Henri Becquerel\"'}, {'motivation': '\"in recognition of the extraordinary services they have rendered by their joint researches on the radiation phenomena discovered by Professor Henri Becquerel\"'}]}\n",
      "{'_id': ObjectId('63d9c9fc42b546d870b837c5'), 'year': '1946', 'category': 'chemistry', 'laureates': [{'motivation': '\"for his discovery that enzymes can be crystallized\"'}, {'motivation': '\"for their preparation of enzymes and virus proteins in a pure form\"'}, {'motivation': '\"for their preparation of enzymes and virus proteins in a pure form\"'}]}\n",
      "{'_id': ObjectId('63d9c9fc42b546d870b8379e'), 'year': '1947', 'category': 'medicine', 'laureates': [{'motivation': '\"for their discovery of the course of the catalytic conversion of glycogen\"'}, {'motivation': '\"for their discovery of the course of the catalytic conversion of glycogen\"'}, {'motivation': '\"for his discovery of the part played by the hormone of the anterior pituitary lobe in the metabolism of sugar\"'}]}\n",
      "{'_id': ObjectId('63d9c9fc42b546d870b8377f'), 'year': '1958', 'category': 'medicine', 'laureates': [{'motivation': '\"for their discovery that genes act by regulating definite chemical events\"'}, {'motivation': '\"for their discovery that genes act by regulating definite chemical events\"'}, {'motivation': '\"for his discoveries concerning genetic recombination and the organization of the genetic material of bacteria\"'}]}\n",
      "{'_id': ObjectId('63d9c9fc42b546d870b8375f'), 'year': '1963', 'category': 'physics', 'laureates': [{'motivation': '\"for his contributions to the theory of the atomic nucleus and the elementary particles, particularly through the discovery and application of fundamental symmetry principles\"'}, {'motivation': '\"for their discoveries concerning nuclear shell structure\"'}, {'motivation': '\"for their discoveries concerning nuclear shell structure\"'}]}\n"
     ]
    }
   ],
   "source": [
    "## Another way\n",
    "# Fetch prizes with quarter-share laureate(s)\n",
    "filter_= {\"laureates.share\": \"4\"}\n",
    "\n",
    "# Save the list of field names\n",
    "projection = [\"category\", \"year\", \"laureates.motivation\"]\n",
    "\n",
    "# Save a cursor to yield the first five prizes\n",
    "cursors = db.prizes.find(filter_, projection).sort(\"year\", 1).limit(5)\n",
    "\n",
    "for cursor in cursors:\n",
    "    print(cursor)"
   ]
  },
  {
   "attachments": {},
   "cell_type": "markdown",
   "id": "e1418089",
   "metadata": {},
   "source": [
    "#### Task 28 - Particle pages"
   ]
  },
  {
   "cell_type": "code",
   "execution_count": 70,
   "id": "f4296a63",
   "metadata": {},
   "outputs": [
    {
     "name": "stdout",
     "output_type": "stream",
     "text": [
      "[{'_id': ObjectId('63d9c9ee42b546d870b832e1'),\n",
      "  'firstname': 'Charles Thomson Rees',\n",
      "  'prizes': [{'affiliations': [{'city': 'Cambridge',\n",
      "                                'country': 'United Kingdom',\n",
      "                                'name': 'University of Cambridge'}],\n",
      "              'category': 'physics',\n",
      "              'motivation': '\"for his method of making the paths of '\n",
      "                            'electrically charged particles visible by '\n",
      "                            'condensation of vapour\"',\n",
      "              'share': '2',\n",
      "              'year': '1927'}],\n",
      "  'surname': 'Wilson'},\n",
      " {'_id': ObjectId('63d9c9ee42b546d870b832f7'),\n",
      "  'firstname': 'Sir John Douglas',\n",
      "  'prizes': [{'affiliations': [{'city': 'Harwell, Berkshire',\n",
      "                                'country': 'United Kingdom',\n",
      "                                'name': 'Atomic Energy Research '\n",
      "                                        'Establishment'}],\n",
      "              'category': 'physics',\n",
      "              'motivation': '\"for their pioneer work on the transmutation of '\n",
      "                            'atomic nuclei by artificially accelerated atomic '\n",
      "                            'particles\"',\n",
      "              'share': '2',\n",
      "              'year': '1951'}],\n",
      "  'surname': 'Cockcroft'},\n",
      " {'_id': ObjectId('63d9c9ee42b546d870b832f8'),\n",
      "  'firstname': 'Ernest Thomas Sinton',\n",
      "  'prizes': [{'affiliations': [{'city': 'Dublin',\n",
      "                                'country': 'Ireland',\n",
      "                                'name': 'Trinity College'}],\n",
      "              'category': 'physics',\n",
      "              'motivation': '\"for their pioneer work on the transmutation of '\n",
      "                            'atomic nuclei by artificially accelerated atomic '\n",
      "                            'particles\"',\n",
      "              'share': '2',\n",
      "              'year': '1951'}],\n",
      "  'surname': 'Walton'}]\n"
     ]
    }
   ],
   "source": [
    "from pprint import pprint\n",
    "\n",
    "# Write a function to retrieve a page of data\n",
    "def get_particle_laureates(page_number=1, page_size=3):\n",
    "    if page_number < 1 or not isinstance(page_number, int):\n",
    "        raise ValueError(\"Pages are natural numbers (starting from 1).\")\n",
    "    particle_laureates = list(\n",
    "        db.laureates.find(\n",
    "            {\"prizes.motivation\": {\"$regex\": \"particle\"}},\n",
    "            [\"firstname\", \"surname\", \"prizes\"])\n",
    "        .sort([(\"prizes.year\", 1), (\"surname\", 1)])\n",
    "        .skip(page_size * (page_number - 1))\n",
    "        .limit(page_size))\n",
    "    return particle_laureates\n",
    "\n",
    "# Collect and save the first nine pages\n",
    "pages = [get_particle_laureates(page_number=page) for page in range(1,9)]\n",
    "pprint(pages[0])"
   ]
  },
  {
   "cell_type": "markdown",
   "id": "f551e9d5",
   "metadata": {},
   "source": [
    "#### Task 29 - The sequence pipeline"
   ]
  },
  {
   "cell_type": "code",
   "execution_count": 71,
   "id": "02acd51f",
   "metadata": {},
   "outputs": [
    {
     "name": "stdout",
     "output_type": "stream",
     "text": [
      "{'firstname': 'International Campaign to Abolish Nuclear Weapons (ICAN)', 'prizes': [{'year': '2017'}]}\n",
      "{'firstname': 'National Dialogue Quartet', 'prizes': [{'year': '2015'}]}\n",
      "{'firstname': 'Organisation for the Prohibition of Chemical Weapons (OPCW)', 'prizes': [{'year': '2013'}]}\n"
     ]
    }
   ],
   "source": [
    "cursor = (db.laureates.find( \n",
    "    projection={\"firstname\": 1, \"prizes.year\": 1, \"_id\": 0},\n",
    "    filter={\"gender\": \"org\"}) \n",
    ".limit(3)\n",
    ".sort(\"prizes.year\", -1))\n",
    "for cursor_ in cursor:\n",
    "    print(cursor_)"
   ]
  },
  {
   "cell_type": "code",
   "execution_count": 72,
   "id": "87648c6b",
   "metadata": {},
   "outputs": [
    {
     "name": "stdout",
     "output_type": "stream",
     "text": [
      "{'firstname': 'International Campaign to Abolish Nuclear Weapons (ICAN)', 'prizes': [{'year': '2017'}]}\n",
      "{'firstname': 'National Dialogue Quartet', 'prizes': [{'year': '2015'}]}\n",
      "{'firstname': 'Organisation for the Prohibition of Chemical Weapons (OPCW)', 'prizes': [{'year': '2013'}]}\n"
     ]
    }
   ],
   "source": [
    "# match_stage > project_stage > sort_stage > limit_stage\n",
    "pipeline = db.laureates.aggregate([{\"$match\": {\"gender\": \"org\"}},\n",
    "                            {\"$project\": {\"firstname\": 1, \"prizes.year\": 1,\"_id\": 0}},\n",
    "                            {\"$sort\": {\"prizes.year\": -1}},\n",
    "                            {\"$limit\": 3} ])\n",
    "for pip_ in pipeline:\n",
    "    print(pip_)"
   ]
  },
  {
   "attachments": {},
   "cell_type": "markdown",
   "id": "f0a111c3",
   "metadata": {},
   "source": [
    "#### Task 30 -  Aggregating a few individuals' country data"
   ]
  },
  {
   "cell_type": "code",
   "execution_count": 73,
   "id": "c6fada05",
   "metadata": {},
   "outputs": [
    {
     "name": "stdout",
     "output_type": "stream",
     "text": [
      "the Netherlands: [{'affiliations': [{'country': 'the Netherlands'}]}]\n",
      "USA: [{'affiliations': [{'country': 'USA'}]}]\n",
      "USA: [{'affiliations': [{'country': 'USA'}]}]\n"
     ]
    }
   ],
   "source": [
    "# Translate cursor to aggregation pipeline\n",
    "pipeline = [{\"$match\": {\"gender\": {\"$ne\": \"org\"}}}, \n",
    "            {\"$project\": {\"bornCountry\": 1, \"prizes.affiliations.country\": 1}}, \n",
    "            {\"$limit\": 3}]\n",
    "\n",
    "for doc in db.laureates.aggregate(pipeline):\n",
    "    print(\"{bornCountry}: {prizes}\".format(**doc))"
   ]
  },
  {
   "attachments": {},
   "cell_type": "markdown",
   "id": "129bad23",
   "metadata": {},
   "source": [
    "#### Task 31 -  Missing original prize categories for year"
   ]
  },
  {
   "cell_type": "code",
   "execution_count": 74,
   "id": "a6e724b0",
   "metadata": {},
   "outputs": [
    {
     "name": "stdout",
     "output_type": "stream",
     "text": [
      "2018: literature\n",
      "1972: peace\n",
      "1967: peace\n",
      "1966: peace\n",
      "1956: peace\n",
      "1955: peace\n",
      "1948: peace\n",
      "1943: literature, peace\n",
      "1939: peace\n",
      "1935: literature\n",
      "1934: physics\n",
      "1933: chemistry\n",
      "1932: peace\n",
      "1931: physics\n",
      "1928: peace\n",
      "1925: medicine\n",
      "1924: chemistry, peace\n",
      "1923: peace\n",
      "1921: medicine\n",
      "1919: chemistry\n",
      "1918: literature, medicine, peace\n",
      "1917: chemistry, medicine\n",
      "1916: chemistry, medicine, peace, physics\n",
      "1915: medicine, peace\n",
      "1914: literature, peace\n"
     ]
    }
   ],
   "source": [
    "from collections import OrderedDict\n",
    "from itertools import groupby\n",
    "from operator import itemgetter\n",
    "\n",
    "original_categories = set(db.prizes.distinct(\"category\", {\"year\": \"1901\"}))\n",
    "\n",
    "# Save an pipeline to collect original-category prizes\n",
    "pipeline = [{\"$match\": {\"category\": {\"$in\": list(original_categories)}}},\n",
    "            {\"$project\": {\"category\": 1, \"year\": 1}},\n",
    "            {\"$sort\": OrderedDict([(\"year\", -1)])}]\n",
    "\n",
    "cursor = db.prizes.aggregate(pipeline)\n",
    "\n",
    "for key, group in groupby(cursor, key=itemgetter(\"year\")):\n",
    "    missing = original_categories - {doc[\"category\"] for doc in group}\n",
    "    if missing:\n",
    "        print(\"{year}: {missing}\".format(year=key, missing=\", \".join(sorted(missing))))"
   ]
  },
  {
   "attachments": {},
   "cell_type": "markdown",
   "id": "69c6582e",
   "metadata": {},
   "source": [
    "#### Task 32 - Filling the blanks"
   ]
  },
  {
   "cell_type": "code",
   "execution_count": 75,
   "id": "4973f98c",
   "metadata": {},
   "outputs": [
    {
     "data": {
      "text/plain": [
       "[]"
      ]
     },
     "execution_count": 75,
     "metadata": {},
     "output_type": "execute_result"
    }
   ],
   "source": [
    "# Values fill the blanks\n",
    "list(db.prizes.aggregate([\n",
    "    {\"$project\": {\"allThree\": {\"$setEquals\": [\"$laureates.share\", [\"3\"]]},\n",
    "                  \"noneThree\": {\"$not\": {\"$setIsSubset\": [[\"3\"], \"$laureates.share\"]}}}},\n",
    "    {\"$match\": {\"$nor\": [{\"allThree\": True}, {\"noneThree\": True}]}}]))"
   ]
  },
  {
   "attachments": {},
   "cell_type": "markdown",
   "id": "bd2021f4",
   "metadata": {},
   "source": [
    "#### Task 33 - Organizing prizes"
   ]
  },
  {
   "cell_type": "code",
   "execution_count": 76,
   "id": "c723d383",
   "metadata": {},
   "outputs": [
    {
     "name": "stdout",
     "output_type": "stream",
     "text": [
      "[{'_id': None, 'total_prizes': 27}]\n"
     ]
    }
   ],
   "source": [
    "# Count prizes awarded (at least partly) to organizations as a sum over sizes of \"prizes\" arrays.\n",
    "pipeline = [{\"$match\": {\"gender\": \"org\"}},\n",
    "            {\"$project\": {\"n_prizes\": {\"$size\": \"$prizes\"}}},\n",
    "            {\"$group\": {\"_id\": None, \"total_prizes\": {\"$sum\": \"$n_prizes\"}}}]\n",
    "\n",
    "print(list(db.laureates.aggregate(pipeline)))"
   ]
  },
  {
   "attachments": {},
   "cell_type": "markdown",
   "id": "5ec90413",
   "metadata": {},
   "source": [
    "#### Task 34 - Missing prize categories in particular years"
   ]
  },
  {
   "cell_type": "code",
   "execution_count": 77,
   "id": "fb89d865",
   "metadata": {},
   "outputs": [
    {
     "name": "stdout",
     "output_type": "stream",
     "text": [
      "2018: literature\n",
      "1972: peace\n",
      "1967: peace\n",
      "1966: peace\n",
      "1956: peace\n",
      "1955: peace\n",
      "1948: peace\n",
      "1943: literature, peace\n",
      "1939: peace\n",
      "1935: literature\n",
      "1934: physics\n",
      "1933: chemistry\n",
      "1932: peace\n",
      "1931: physics\n",
      "1928: peace\n",
      "1925: medicine\n",
      "1924: chemistry, peace\n",
      "1923: peace\n",
      "1921: medicine\n",
      "1919: chemistry\n",
      "1918: literature, medicine, peace\n",
      "1917: chemistry, medicine\n",
      "1916: chemistry, medicine, peace, physics\n",
      "1915: medicine, peace\n",
      "1914: literature, peace\n"
     ]
    }
   ],
   "source": [
    "from collections import OrderedDict\n",
    "\n",
    "original_categories = sorted(set(db.prizes.distinct(\"category\", {\"year\": \"1901\"})))\n",
    "pipeline = [\n",
    "    {\"$match\": {\"category\": {\"$in\": original_categories}}},\n",
    "    {\"$project\": {\"category\": 1, \"year\": 1}},\n",
    "    \n",
    "    # Collect the set of category values for each prize year\n",
    "    {\"$group\": {\"_id\": \"$year\", \"categories\": {\"$addToSet\": \"$category\"}}},\n",
    "    \n",
    "    # Project categories *not* awarded \n",
    "    {\"$project\": {\"missing\": {\"$setDifference\": [original_categories, \"$categories\"]}}},\n",
    "    \n",
    "    # Only include years with at least one missing category\n",
    "    {\"$match\": {\"missing.0\": {\"$exists\": True}}},\n",
    "    \n",
    "    # Sort in reverse chronological order\n",
    "    {\"$sort\": OrderedDict([(\"_id\", -1)])}\n",
    "            ]\n",
    "for doc in db.prizes.aggregate(pipeline):\n",
    "    print(\"{year}: {missing}\".format(year=doc[\"_id\"],missing=\", \".join(sorted(doc[\"missing\"]))))"
   ]
  },
  {
   "attachments": {},
   "cell_type": "markdown",
   "id": "127f2714",
   "metadata": {},
   "source": [
    "#### Task 35 - Countries of birth & Affiliation countries"
   ]
  },
  {
   "cell_type": "code",
   "execution_count": 78,
   "id": "d094cb8b",
   "metadata": {},
   "outputs": [
    {
     "name": "stdout",
     "output_type": "stream",
     "text": [
      "{'_id': False, 'count': 261}\n",
      "{'_id': True, 'count': 477}\n"
     ]
    }
   ],
   "source": [
    "key_ac = \"prizes.affiliations.country\"\n",
    "key_bc = \"bornCountry\"\n",
    "pipeline = [\n",
    "    {\"$project\": {key_bc: 1, key_ac: 1}},\n",
    "\n",
    "    # Ensure a single prize affiliation country per pipeline document\n",
    "    {\"$unwind\": \"$prizes\"},\n",
    "    {\"$unwind\": \"$prizes.affiliations\"},\n",
    "\n",
    "    # Ensure values in the list of distinct values (so not empty)\n",
    "    {\"$match\": {key_ac: {\"$in\": db.laureates.distinct(key_ac)}}},\n",
    "    {\"$project\": {\"affilCountrySameAsBorn\": {\n",
    "        \"$gte\": [{\"$indexOfBytes\": [\"$\"+key_ac, \"$\"+key_bc]}, 0]}}},\n",
    "\n",
    "    # Count by \"$affilCountrySameAsBorn\" value (True or False)\n",
    "    {\"$group\": {\"_id\": \"$affilCountrySameAsBorn\",\n",
    "                \"count\": {\"$sum\": 1}}}\n",
    "            ]\n",
    "for doc in db.laureates.aggregate(pipeline): \n",
    "    print(doc)"
   ]
  },
  {
   "attachments": {},
   "cell_type": "markdown",
   "id": "772c1ac9",
   "metadata": {},
   "source": [
    "#### Task 36 - Countries of birth by prize category"
   ]
  },
  {
   "cell_type": "code",
   "execution_count": 79,
   "id": "4bd2c9bc",
   "metadata": {},
   "outputs": [
    {
     "name": "stdout",
     "output_type": "stream",
     "text": [
      "{'_id': 'literature', 'nBornCountries': 55}\n",
      "{'_id': 'peace', 'nBornCountries': 50}\n",
      "{'_id': 'chemistry', 'nBornCountries': 48}\n",
      "{'_id': 'physics', 'nBornCountries': 44}\n",
      "{'_id': 'medicine', 'nBornCountries': 44}\n",
      "{'_id': 'economics', 'nBornCountries': 21}\n"
     ]
    }
   ],
   "source": [
    "pipeline = [\n",
    "    # Unwind the laureates array\n",
    "    {\"$unwind\": \"$laureates\"},\n",
    "    {\"$lookup\": {\"from\": \"laureates\", \"foreignField\": \"id\",\n",
    "                \"localField\": \"laureates.id\", \"as\": \"laureate_bios\"}},\n",
    "\n",
    "    # Unwind the new laureate_bios array\n",
    "    {\"$unwind\": \"$laureate_bios\"},\n",
    "    {\"$project\": {\"category\": 1,\n",
    "                  \"bornCountry\": \"$laureate_bios.bornCountry\"}},\n",
    "\n",
    "    # Collect bornCountry values associated with each prize category\n",
    "    {\"$group\": {\"_id\": \"$category\",\n",
    "                \"bornCountries\": {\"$addToSet\": \"$bornCountry\"}}},\n",
    "\n",
    "    # Project out the size of each category's (set of) bornCountries\n",
    "    {\"$project\": {\"category\": 1,\n",
    "                  \"nBornCountries\": {\"$size\": \"$bornCountries\"}}},\n",
    "    {\"$sort\": {\"nBornCountries\": -1}}\n",
    "            ]\n",
    "for doc in db.prizes.aggregate(pipeline): \n",
    "    print(doc)"
   ]
  },
  {
   "cell_type": "markdown",
   "id": "03e4e148",
   "metadata": {},
   "source": [
    "#### Task 37 - No affiliation in laureates bornCountry"
   ]
  },
  {
   "cell_type": "code",
   "execution_count": 80,
   "id": "d4ddb6b7",
   "metadata": {},
   "outputs": [
    {
     "name": "stdout",
     "output_type": "stream",
     "text": [
      "[{'prizes_for_immigrated_laureates': 478}]\n"
     ]
    }
   ],
   "source": [
    "pipeline = [\n",
    "    # Limit results to people; project needed fields; unwind prizes\n",
    "    {\"$match\": {\"gender\": {\"$ne\": \"org\"}}},\n",
    "    {\"$project\": {\"bornCountry\": 1, \"prizes.affiliations.country\": 1}},\n",
    "    {\"$unwind\": \"$prizes\"},\n",
    "  \n",
    "    # Count prizes with no country-of-birth affiliation\n",
    "    {\"$addFields\": {\"bornCountryInAffiliations\": {\"$in\": [\"$bornCountry\", \"$prizes.affiliations.country\"]}}},\n",
    "    {\"$match\": {\"bornCountryInAffiliations\": False}},\n",
    "    {\"$count\": \"prizes_for_immigrated_laureates\"},\n",
    "            ]\n",
    "\n",
    "print(list(db.laureates.aggregate(pipeline)))"
   ]
  },
  {
   "attachments": {},
   "cell_type": "markdown",
   "id": "8b01fa65",
   "metadata": {},
   "source": [
    "#### Task 38 - Prizes with \"unaffiliated\" people"
   ]
  },
  {
   "cell_type": "code",
   "execution_count": 81,
   "id": "d28c3747",
   "metadata": {},
   "outputs": [
    {
     "name": "stdout",
     "output_type": "stream",
     "text": [
      "[{'single_prize_for_immigrated_laureates': 252}]\n"
     ]
    }
   ],
   "source": [
    "pipeline = [{\"$match\": {\"gender\": {\"$ne\": \"org\"}}},\n",
    "            {\"$project\": {\"bornCountry\": 1, \"prizes.affiliations.country\": 1}},\n",
    "            {\"$unwind\": \"$prizes\"},\n",
    "            {\"$addFields\": {\"bornCountryInAffiliations\": {\"$in\": [\"$bornCountry\", \"$prizes.affiliations.country\"]}}},\n",
    "            {\"$match\": {\"bornCountryInAffiliations\": False}},\n",
    "            {\"$count\": \"single_prize_for_immigrated_laureates\"}]\n",
    "\n",
    "# Construct the additional filter stage\n",
    "added_stage = {\"$match\": {\"prizes.affiliations.country\": {\"$in\": db.laureates.distinct(\"prizes.affiliations.country\")}}}\n",
    "\n",
    "# Insert this stage into the pipeline\n",
    "pipeline.insert(3, added_stage)\n",
    "\n",
    "print(list(db.laureates.aggregate(pipeline)))"
   ]
  },
  {
   "cell_type": "markdown",
   "id": "10666ea0",
   "metadata": {},
   "source": [
    "### Part 04: Data Visualization and Conclusion"
   ]
  },
  {
   "cell_type": "code",
   "execution_count": 82,
   "id": "8fbcb245",
   "metadata": {},
   "outputs": [],
   "source": [
    "import matplotlib.pyplot as plt\n",
    "import seaborn as sns"
   ]
  },
  {
   "cell_type": "markdown",
   "id": "7e5bd8c5",
   "metadata": {},
   "source": [
    "#### 1. Distribution of prizes"
   ]
  },
  {
   "cell_type": "code",
   "execution_count": 201,
   "id": "d333a2b8",
   "metadata": {},
   "outputs": [
    {
     "data": {
      "image/png": "[encoded data removed]",
      "text/plain": [
       "<Figure size 1500x500 with 1 Axes>"
      ]
     },
     "metadata": {},
     "output_type": "display_data"
    }
   ],
   "source": [
    "category = list(db.prizes.aggregate([  \n",
    "  {\"$match\": {\"category\": {\"$exists\": 1}}},\n",
    "  {\"$project\": {\"_id\": 0, \"category\": 1}},\n",
    "  {\"$group\": {\"_id\": \"$category\", \"count\": {\"$sum\": 1}}},\n",
    "  {\"$sort\": {\"count\": -1}},  \n",
    "  ]))\n",
    "\n",
    "names = [doc[\"_id\"] for doc in category]\n",
    "counts = [doc[\"count\"] for doc in category]\n",
    "\n",
    "plt.figure(figsize=(15, 5))\n",
    "ax=sns.barplot(x = names, y = counts)\n",
    "ax.bar_label(ax.containers[0], padding= 0)\n",
    "#ax.bar_label(ax.containers[0], label_type = 'center', padding= 0)\n",
    "plt.xlabel('Category')\n",
    "plt.ylabel('Number of prize')\n",
    "plt.title('Distribution of prizes',size=16, weight='bold')\n",
    "plt.show()"
   ]
  },
  {
   "cell_type": "markdown",
   "id": "ec02848a",
   "metadata": {},
   "source": [
    "##### => Economics is the field with the lowest number of prizes, which has half as many awards as other fields."
   ]
  },
  {
   "attachments": {},
   "cell_type": "markdown",
   "id": "b3548509",
   "metadata": {},
   "source": [
    "#### 2. Most Nobel Winner Countries"
   ]
  },
  {
   "cell_type": "code",
   "execution_count": 295,
   "id": "be1736fd",
   "metadata": {},
   "outputs": [
    {
     "data": {
      "image/png": "[encoded data removed]",
      "text/plain": [
       "<Figure size 1500x500 with 1 Axes>"
      ]
     },
     "metadata": {},
     "output_type": "display_data"
    }
   ],
   "source": [
    "born_country_winner = list(db.laureates.aggregate([\n",
    "    {\"$match\": {\"bornCountryCode\": {\"$exists\": 1}}},\n",
    "    {\"$project\": {\"_id\": 1, \"bornCountryCode\": 1}},\n",
    "    {\"$group\": {\"_id\": \"$bornCountryCode\", \"count\": {\"$sum\": 1}}},\n",
    "    {\"$sort\": {\"count\": -1}},\n",
    "    {\"$limit\": 10}   ]))\n",
    "\n",
    "names = [doc[\"_id\"] for doc in born_country_winner]\n",
    "counts = [doc[\"count\"] for doc in born_country_winner]\n",
    "\n",
    "plt.figure(figsize=(15, 5))\n",
    "ax=sns.barplot(x = names, y = counts)\n",
    "ax.bar_label(ax.containers[0], padding= 0)\n",
    "#ax.bar_label(ax.containers[0], label_type = 'center', padding= 0)\n",
    "plt.xlabel('Country Code')\n",
    "plt.ylabel('Number of Nobel winner')\n",
    "plt.title('Top 10 born countries of Nobel winner', size=16, weight='bold')\n",
    "plt.show()"
   ]
  },
  {
   "attachments": {},
   "cell_type": "markdown",
   "id": "77423db1",
   "metadata": {},
   "source": [
    "##### => USA, Great Britain, Deutschland (Germany) had the most laureates in these years with remarkable distance"
   ]
  },
  {
   "attachments": {},
   "cell_type": "markdown",
   "id": "ab8edbee",
   "metadata": {},
   "source": [
    "#### 3. Born countries with the highest number of laureates"
   ]
  },
  {
   "cell_type": "code",
   "execution_count": 111,
   "id": "d87b108c",
   "metadata": {},
   "outputs": [
    {
     "name": "stdout",
     "output_type": "stream",
     "text": [
      "183 Nobel winners that born country and died country are different\n"
     ]
    }
   ],
   "source": [
    "immigrate_nobel_winner = list(db.laureates.aggregate([  \n",
    "  {\"$match\": {\"gender\": {\"$ne\": \"org\"}, \"bornCountryCode\": {\"$exists\": 1}, \"diedCountryCode\": {\"$exists\": 1}}}, \n",
    "  {\"$project\": {\"_id\": 0, \"bornCountryCode\": 1, \"diedCountryCode\": 1, \"isImmigrant\": {\"$ne\": [\"$bornCountryCode\", \"$diedCountryCode\"]}}},\n",
    "  {\"$match\": {\"isImmigrant\": True}},\n",
    "  {\"$count\": \"sum\"}\n",
    "]))\n",
    "print(str(immigrate_nobel_winner[0].get(\"sum\"))+ ' Nobel winners that born country and died country are different')"
   ]
  },
  {
   "cell_type": "code",
   "execution_count": 294,
   "id": "39b18f72",
   "metadata": {},
   "outputs": [
    {
     "data": {
      "image/png": "[encoded data removed]",
      "text/plain": [
       "<Figure size 1500x500 with 1 Axes>"
      ]
     },
     "metadata": {},
     "output_type": "display_data"
    }
   ],
   "source": [
    "immigrate_nobel_winner_born_country = list(db.laureates.aggregate([  \n",
    "  {\"$match\": {\"gender\": {\"$ne\": \"org\"}, \"bornCountryCode\": {\"$exists\": 1}, \"diedCountryCode\": {\"$exists\": 1}}}, \n",
    "  {\"$project\": {\"_id\": 0, \"bornCountryCode\": 1, \"diedCountryCode\": 1, \"isImmigrant\": {\"$ne\": [\"$bornCountryCode\", \"$diedCountryCode\"]}}},\n",
    "  {\"$match\": {\"isImmigrant\": True}},\n",
    "  {\"$group\": {\"_id\": \"$bornCountryCode\", \"count\": {\"$sum\": 1}}},\n",
    "  {\"$sort\": {\"count\": -1}},  \n",
    "  {\"$match\": {'count': {\"$gte\": 5}}}\n",
    "  #{\"$limit\": 10}\n",
    "   ]))\n",
    "   \n",
    "names = [doc[\"_id\"] for doc in immigrate_nobel_winner_born_country]\n",
    "counts = [doc[\"count\"] for doc in immigrate_nobel_winner_born_country]\n",
    "\n",
    "plt.figure(figsize=(15, 5))\n",
    "ax=sns.barplot(x = names, y = counts)\n",
    "ax.bar_label(ax.containers[0], label_type = 'center', padding= 0)\n",
    "plt.xlabel('Country Code')\n",
    "plt.ylabel('Number of Nobel winner')\n",
    "plt.title('The born countries with the highest number of laureates', size=16, weight='bold')\n",
    "plt.show()"
   ]
  },
  {
   "attachments": {},
   "cell_type": "markdown",
   "id": "5548be0c",
   "metadata": {},
   "source": [
    "##### => Poland, Deutschland(Germany) and Great Britain had the most laureates that won Nobel prizes."
   ]
  },
  {
   "attachments": {},
   "cell_type": "markdown",
   "id": "b8706a6c",
   "metadata": {},
   "source": [
    "#### 4. Countries with the highest number of immigrant laureates"
   ]
  },
  {
   "cell_type": "code",
   "execution_count": 293,
   "id": "51209345",
   "metadata": {},
   "outputs": [
    {
     "data": {
      "image/png": "[encoded data removed]",
      "text/plain": [
       "<Figure size 1500x500 with 1 Axes>"
      ]
     },
     "metadata": {},
     "output_type": "display_data"
    }
   ],
   "source": [
    "immigrate_nobel_winner_died_country = list(db.laureates.aggregate([  \n",
    "  {\"$match\": {\"gender\": {\"$ne\": \"org\"}, \"bornCountryCode\": {\"$exists\": 1}, \"diedCountryCode\": {\"$exists\": 1}}}, \n",
    "  {\"$project\": {\"_id\": 0, \"bornCountryCode\": 1, \"diedCountryCode\": 1, \"isImmigrant\": {\"$ne\": [\"$bornCountryCode\", \"$diedCountryCode\"]}}},\n",
    "  {\"$match\": {\"isImmigrant\": True}},\n",
    "  {\"$group\": {\"_id\": \"$diedCountryCode\", \"count\": {\"$sum\": 1}}},\n",
    "  {\"$sort\": {\"count\": -1}},  \n",
    "  {\"$limit\": 5}\n",
    "   ]))\n",
    "   \n",
    "names = [doc[\"_id\"] for doc in immigrate_nobel_winner_died_country]\n",
    "counts = [doc[\"count\"] for doc in immigrate_nobel_winner_died_country]\n",
    "\n",
    "plt.figure(figsize=(15, 5))\n",
    "ax=sns.barplot(x = names, y = counts)\n",
    "ax.bar_label(ax.containers[0], label_type = 'center', padding= 0)\n",
    "plt.xlabel('Country Code')\n",
    "plt.ylabel('Number of Nobel winner')\n",
    "plt.title('Top 5 countries with the highest number of immigrant laureates', size=16, weight='bold')\n",
    "plt.show()"
   ]
  },
  {
   "attachments": {},
   "cell_type": "markdown",
   "id": "ba0cbc15",
   "metadata": {},
   "source": [
    "##### => The USA had the most immigrant laureates"
   ]
  },
  {
   "attachments": {},
   "cell_type": "markdown",
   "id": "107d2294",
   "metadata": {},
   "source": [
    "#### 5. The ratio of Winners"
   ]
  },
  {
   "cell_type": "code",
   "execution_count": 424,
   "id": "fde6e72f",
   "metadata": {},
   "outputs": [
    {
     "data": {
      "text/plain": [
       "[{'_id': 'male', 'count': 859},\n",
       " {'_id': 'female', 'count': 51},\n",
       " {'_id': 'org', 'count': 24}]"
      ]
     },
     "execution_count": 424,
     "metadata": {},
     "output_type": "execute_result"
    }
   ],
   "source": [
    "nobel_winner_gender = list(db.laureates.aggregate([  \n",
    "  #{\"$unwind\": \"$prizes\"},\n",
    "  {\"$match\": {\"gender\": {\"$exists\": 1}}}, \n",
    "  {\"$project\": {\"_id\": 0, \"gender\": 1}},\n",
    "  {\"$group\": {\"_id\": \"$gender\", \"count\": {\"$sum\": 1}}},\n",
    "  {\"$sort\": {\"count\": -1}},  \n",
    "  ]))\n",
    "nobel_winner_gender"
   ]
  },
  {
   "cell_type": "code",
   "execution_count": 423,
   "id": "1f0e3e9b",
   "metadata": {},
   "outputs": [
    {
     "data": {
      "text/plain": [
       "[{'_id': 'male', 'count': 862},\n",
       " {'_id': 'female', 'count': 52},\n",
       " {'_id': 'org', 'count': 27}]"
      ]
     },
     "execution_count": 423,
     "metadata": {},
     "output_type": "execute_result"
    }
   ],
   "source": [
    "nobel_winner_gender = list(db.laureates.aggregate([  \n",
    "  {\"$unwind\": \"$prizes\"},\n",
    "  {\"$match\": {\"gender\": {\"$exists\": 1}}}, \n",
    "  {\"$project\": {\"_id\": 0, \"gender\": 1}},\n",
    "  {\"$group\": {\"_id\": \"$gender\", \"count\": {\"$sum\": 1}}},\n",
    "  {\"$sort\": {\"count\": -1}},  \n",
    "  ]))\n",
    "nobel_winner_gender"
   ]
  },
  {
   "cell_type": "code",
   "execution_count": 425,
   "id": "47c957b5",
   "metadata": {},
   "outputs": [
    {
     "data": {
      "image/png": "[encoded data removed]",
      "text/plain": [
       "<Figure size 1500x500 with 1 Axes>"
      ]
     },
     "metadata": {},
     "output_type": "display_data"
    }
   ],
   "source": [
    "nobel_winner_gender = list(db.laureates.aggregate([  \n",
    "  {\"$unwind\": \"$prizes\"},\n",
    "  {\"$match\": {\"gender\": {\"$exists\": 1}}}, \n",
    "  {\"$project\": {\"_id\": 0, \"gender\": 1}},\n",
    "  {\"$group\": {\"_id\": \"$gender\", \"count\": {\"$sum\": 1}}},\n",
    "  {\"$sort\": {\"count\": -1}},  \n",
    "  ]))\n",
    "\n",
    "names = [doc[\"_id\"] for doc in nobel_winner_gender]\n",
    "counts = [doc[\"count\"] for doc in nobel_winner_gender]\n",
    "\n",
    "plt.figure(figsize=(15, 5))\n",
    "ax=sns.barplot(x = names, y = counts)\n",
    "ax.bar_label(ax.containers[0], padding= 0)\n",
    "#ax.bar_label(ax.containers[0], label_type = 'center', padding= 0)\n",
    "plt.xlabel('Gender')\n",
    "plt.ylabel('Number of Nobel winner')\n",
    "plt.title('Ration of Nobel winner',size=16, weight='bold')\n",
    "plt.show()"
   ]
  },
  {
   "cell_type": "markdown",
   "id": "53b94153",
   "metadata": {},
   "source": [
    "##### => More than 850 Men won prizes, about 50 Women did and less than 30 for Organizations"
   ]
  },
  {
   "attachments": {},
   "cell_type": "markdown",
   "id": "634afe1c",
   "metadata": {},
   "source": [
    "#### 6. Number of prize per category"
   ]
  },
  {
   "cell_type": "code",
   "execution_count": 291,
   "id": "5b7e48cc",
   "metadata": {},
   "outputs": [
    {
     "data": {
      "image/png": "[encoded data removed]",
      "text/plain": [
       "<Figure size 1500x500 with 1 Axes>"
      ]
     },
     "metadata": {},
     "output_type": "display_data"
    }
   ],
   "source": [
    "prize_category = list(db.laureates.aggregate([  \n",
    "  {\"$unwind\": \"$prizes\"},\n",
    "  {\"$match\": {\"prizes.category\": {\"$exists\": 1}}},\n",
    "  {\"$project\": {\"_id\": 0, \"prizes.category\": 1}},\n",
    "  {\"$group\": {\"_id\": \"$prizes.category\", \"count\": {\"$sum\": 1}}},\n",
    "  {\"$sort\": {\"count\": -1}},  \n",
    "  ]))\n",
    "\n",
    "names = [doc[\"_id\"] for doc in prize_category]\n",
    "counts = [doc[\"count\"] for doc in prize_category]\n",
    "\n",
    "plt.figure(figsize=(15, 5))\n",
    "ax=sns.barplot(x = names, y = counts)\n",
    "ax.bar_label(ax.containers[0], padding= 0)\n",
    "#ax.bar_label(ax.containers[0], label_type = 'center', padding= 0)\n",
    "plt.xlabel('Category')\n",
    "plt.ylabel('Number of prize')\n",
    "plt.title('Number of prize per category',size=16, weight='bold')\n",
    "plt.show()"
   ]
  },
  {
   "attachments": {},
   "cell_type": "markdown",
   "id": "9ca929ef",
   "metadata": {},
   "source": [
    "##### => Medicine, Physics and Chemistry are the fields with the highest number of prizes"
   ]
  },
  {
   "attachments": {},
   "cell_type": "markdown",
   "id": "e4084396",
   "metadata": {},
   "source": [
    "#### 7. Category By Gender"
   ]
  },
  {
   "cell_type": "code",
   "execution_count": 427,
   "id": "880f1710",
   "metadata": {},
   "outputs": [
    {
     "data": {
      "image/png": "[encoded data removed]",
      "text/plain": [
       "<Figure size 1500x500 with 1 Axes>"
      ]
     },
     "metadata": {},
     "output_type": "display_data"
    }
   ],
   "source": [
    "category_gender = list(db.laureates.aggregate([  \n",
    "  {\"$unwind\": \"$prizes\"},\n",
    "  #{\"$match\": {\"gender\": {\"$ne\": \"org\"}, \"prizes.category\": {\"$exists\": 1}}}, \n",
    "  {\"$match\": {\"gender\": {\"$exists\": 1}, \"prizes.category\": {\"$exists\": 1}}}, \n",
    "  {\"$project\": {\"_id\": 0, \"prizes.category\": 1, \"gender\": 1}},\n",
    "  {\"$group\": {\"_id\": {\"gender\": \"$gender\", \"category\": \"$prizes.category\"}, \"count\": {\"$sum\": 1}}},\n",
    "  #{\"$project\": {\"_id\": 0, \"gender\": \"$_id.gender\", \"category\": \"$_id.category\", \"count\": \"$count\"}},\n",
    "  #\"$sort\": {\"category\": 1}},  \n",
    "   {\"$sort\": {\"_id.category\": 1, \"_id.gender\": -1}}, \n",
    "  ]))\n",
    "\n",
    "gender = [doc.get(\"_id\").get(\"gender\") for doc in category_gender]\n",
    "category = [doc.get(\"_id\").get(\"category\") for doc in category_gender]\n",
    "counts = [doc[\"count\"] for doc in category_gender]\n",
    "\n",
    "plt.figure(figsize=(15, 5))\n",
    "ax=sns.barplot(x = category, y = counts, hue = gender)\n",
    "ax.bar_label(ax.containers[0], padding= 0)\n",
    "ax.bar_label(ax.containers[1], padding= 0)\n",
    "ax.bar_label(ax.containers[2], padding= 0)\n",
    "#ax.bar_label(ax.containers[0], label_type = 'center', padding= 0)\n",
    "plt.xlabel('Category')\n",
    "plt.ylabel('Number of prize')\n",
    "plt.title('Number of prize per category by gender',size=16, weight='bold')\n",
    "plt.show()"
   ]
  },
  {
   "attachments": {},
   "cell_type": "markdown",
   "id": "a0bc9617",
   "metadata": {},
   "source": [
    "##### => Women have won the most prizes in Medicine, Literature and Peace while Physics, Medicine and Chemistry are the most popular fields for men. Organizations have solely received honors in the sphere of peace."
   ]
  },
  {
   "attachments": {},
   "cell_type": "markdown",
   "id": "d06923f1",
   "metadata": {},
   "source": [
    "#### 8. Top Universities that Nobel winners studied"
   ]
  },
  {
   "cell_type": "code",
   "execution_count": 271,
   "id": "e1221f7a",
   "metadata": {},
   "outputs": [
    {
     "data": {
      "image/png": "[encoded data removed]",
      "text/plain": [
       "<Figure size 1500x500 with 1 Axes>"
      ]
     },
     "metadata": {},
     "output_type": "display_data"
    }
   ],
   "source": [
    "nobel_university_winner = list(db.laureates.aggregate([  \n",
    "  {\"$unwind\": \"$prizes\"},\n",
    "  {\"$match\": {\"prizes.affiliations.name\": {\"$exists\": 1}}},\n",
    "  {\"$project\": {\"_id\": 0, \"prizes.affiliations.name\": 1}},\n",
    "  {\"$group\": {\"_id\": \"$prizes.affiliations.name\", \"count\": {\"$sum\": 1}}},\n",
    "  {\"$sort\": {\"count\": -1}}, \n",
    "  {\"$match\": {'count': {\"$gte\": 10}}} \n",
    "  ]))\n",
    "  \n",
    "universities = [doc.get(\"_id\")[0] for doc in nobel_university_winner]\n",
    "count = [doc.get(\"count\") for doc in nobel_university_winner]\n",
    "\n",
    "plt.figure(figsize=(15, 5))\n",
    "ax=sns.barplot(x = count, y = universities)\n",
    "ax.bar_label(ax.containers[0], padding= 0)\n",
    "#ax.bar_label(ax.containers[0], label_type = 'center', padding= 0)\n",
    "plt.xlabel('Number of Prize')\n",
    "plt.ylabel('University')\n",
    "plt.title('Number of laureates per university',size=16, weight='bold')\n",
    "plt.show()"
   ]
  },
  {
   "attachments": {},
   "cell_type": "markdown",
   "id": "00f7fb45",
   "metadata": {},
   "source": [
    "##### => University of California, Harvard University, University of Chicago and Massachusetts Institute of Technology (MIT) are top 3 Universities that Nobel winners studied there"
   ]
  },
  {
   "attachments": {},
   "cell_type": "markdown",
   "id": "dd0c5309",
   "metadata": {},
   "source": [
    "#### 9. Distribution of Age Winners get prize"
   ]
  },
  {
   "cell_type": "code",
   "execution_count": 508,
   "id": "0e2b70e0",
   "metadata": {},
   "outputs": [
    {
     "data": {
      "image/png": "[encoded data removed]",
      "text/plain": [
       "<Figure size 1500x500 with 1 Axes>"
      ]
     },
     "metadata": {},
     "output_type": "display_data"
    }
   ],
   "source": [
    "nobel_winner_age = list(db.laureates.aggregate([  \n",
    "  {\"$unwind\": \"$prizes\"},\n",
    "  {\"$match\": {\"prizes.category\": {\"$exists\": 1}, \n",
    "              \"born\": {\"$exists\": 1}, \"died\": {\"$exists\": 1}, \n",
    "              \"born\": {\"$ne\": \"0000-00-00\"}, \"died\": {\"$ne\": \"0000-00-00\"}}},\n",
    "  {\"$project\": {\"_id\": 0,  \"prizes.category\": 1,\n",
    "              \"born_year\": {\"$toInt\": {\"$substr\": [\"$born\", 0, 4]}}, \n",
    "              \"died_year\": {\"$toInt\": {\"$substr\": [\"$died\", 0, 4]}}}},\n",
    "  {\"$addFields\": {\"year_old\": {\"$subtract\": [\"$died_year\", \"$born_year\"]}}},\n",
    "  {\"$group\": {\"_id\": {\"age\": \"$year_old\", \"category\": \"$prizes.category\"}, \"count\": {\"$sum\": 1}}},\n",
    "  {\"$sort\": {\"_id\": 1}}\n",
    "  ])) \n",
    "  \n",
    "age = [doc.get(\"_id\").get(\"age\") for doc in nobel_winner_age]\n",
    "count = [doc.get(\"count\") for doc in nobel_winner_age]\n",
    "cat = [doc.get(\"_id\").get(\"category\") for doc in nobel_winner_age]\n",
    "\n",
    "plt.figure(figsize=(15, 5))\n",
    "\n",
    "ax=sns.scatterplot(y = count, x = age, hue = cat)\n",
    "#ax=sns.barplot(y = count, x = age)\n",
    "#ax.bar_label(ax.containers[0], padding= 0)\n",
    "plt.xlabel('Age get prize')\n",
    "plt.ylabel('Number of laureates')\n",
    "plt.title('Age get prize distribution',size=16, weight='bold')\n",
    "plt.show()"
   ]
  },
  {
   "attachments": {},
   "cell_type": "markdown",
   "id": "a2811b41",
   "metadata": {},
   "source": [
    "##### => The ages between 75 and 95 years old are the highest number of laureates, particularly the peak at 85 ages."
   ]
  },
  {
   "attachments": {},
   "cell_type": "markdown",
   "id": "878d150c",
   "metadata": {},
   "source": [
    "#### 10. Age of winners seperate by gender and prize category"
   ]
  },
  {
   "cell_type": "code",
   "execution_count": 540,
   "id": "3caa44bc",
   "metadata": {},
   "outputs": [
    {
     "data": {
      "image/png": "[encoded data removed]",
      "text/plain": [
       "<Figure size 1500x500 with 1 Axes>"
      ]
     },
     "metadata": {},
     "output_type": "display_data"
    }
   ],
   "source": [
    "nobel_winner_age_gender = list(db.laureates.aggregate([  \n",
    "  {\"$unwind\": \"$prizes\"},\n",
    "  {\"$match\": {\"gender\": {\"$ne\": \"org\"}, \"prizes.category\": {\"$exists\": 1}, \n",
    "                \"born\": {\"$exists\": 1}, \"died\": {\"$exists\": 1}, \n",
    "                \"born\": {\"$ne\": \"0000-00-00\"}, \"died\": {\"$ne\": \"0000-00-00\"}}},\n",
    "  {\"$project\": {\"_id\": 0, \"prizes.category\": 1, \"gender\": 1,\n",
    "                \"born_year\": {\"$toInt\": {\"$substr\": [\"$born\", 0, 4]}}, \n",
    "                \"died_year\": {\"$toInt\": {\"$substr\": [\"$died\", 0, 4]}}}},\n",
    "  {\"$addFields\": {\"year_old\": {\"$subtract\": [\"$died_year\", \"$born_year\"]}}},\n",
    "  {\"$group\": {\"_id\": {\"gender\": \"$gender\", \"age\": \"$year_old\", \"category\": \"$prizes.category\"}, \"count\": {\"$sum\": 1}}},\n",
    "  {\"$sort\": {\"_id\": 1}}\n",
    "  ]))\n",
    "\n",
    "\n",
    "#count = [doc.get(\"count\") for doc in nobel_winner_age_gender]\n",
    "gender = [doc.get(\"_id\").get(\"gender\") for doc in nobel_winner_age_gender]\n",
    "age = [doc.get(\"_id\").get(\"age\") for doc in nobel_winner_age_gender]\n",
    "cat = [doc.get(\"_id\").get(\"category\") for doc in nobel_winner_age_gender]\n",
    "\n",
    "\n",
    "plt.figure(figsize=(15, 5))\n",
    "ax=sns.stripplot(x = gender, y = age, hue = cat, dodge=True)\n",
    "plt.ylabel('Age get prize')\n",
    "plt.xlabel('Gender')\n",
    "plt.title('Age of laureates seperated by gender and prize category', size=16, weight='bold')\n",
    "plt.show()"
   ]
  },
  {
   "attachments": {},
   "cell_type": "markdown",
   "id": "849b7117",
   "metadata": {},
   "source": [
    "#### #. Top cities that Nobel winners studied"
   ]
  },
  {
   "cell_type": "code",
   "execution_count": 539,
   "id": "b0cceda8",
   "metadata": {},
   "outputs": [
    {
     "data": {
      "image/png": "[encoded data removed]",
      "text/plain": [
       "<Figure size 1500x500 with 1 Axes>"
      ]
     },
     "metadata": {},
     "output_type": "display_data"
    }
   ],
   "source": [
    "nobel_city_winner = list(db.laureates.aggregate([  \n",
    "  {\"$unwind\": \"$prizes\"},\n",
    "  {\"$match\": {\"prizes.affiliations.city\": {\"$exists\": 1}}},\n",
    "  {\"$project\": {\"_id\": 0, \"prizes.affiliations.city\": 1}},\n",
    "  {\"$group\": {\"_id\": \"$prizes.affiliations.city\", \"count\": {\"$sum\": 1}}},\n",
    "  {\"$sort\": {\"count\": -1}}, \n",
    "  #{\"$match\": {'count': {\"$gte\": 10}}} \n",
    "  {\"$limit\": 10}\n",
    "  ]))\n",
    "  \n",
    "city = [doc.get(\"_id\")[0] for doc in nobel_city_winner]\n",
    "count = [doc.get(\"count\") for doc in nobel_city_winner]\n",
    "\n",
    "plt.figure(figsize=(15, 5))\n",
    "ax=sns.barplot(x = count, y = city)\n",
    "ax.bar_label(ax.containers[0], padding= 0)\n",
    "#ax.bar_label(ax.containers[0], label_type = 'center', padding= 0)\n",
    "plt.xlabel('Number of Prize')\n",
    "plt.ylabel('University')\n",
    "plt.title('Number of laureates per city',size=16, weight='bold')\n",
    "plt.show()"
   ]
  },
  {
   "cell_type": "markdown",
   "id": "ae8f12ae",
   "metadata": {},
   "source": [
    "##### => Cambridge MA, New York, and Cambridge are top cities of universities that Nobel winners studied there"
   ]
  }
 ],
 "metadata": {
  "kernelspec": {
   "display_name": "Python 3",
   "language": "python",
   "name": "python3"
  },
  "language_info": {
   "codemirror_mode": {
    "name": "ipython",
    "version": 3
   },
   "file_extension": ".py",
   "mimetype": "text/x-python",
   "name": "python",
   "nbconvert_exporter": "python",
   "pygments_lexer": "ipython3",
   "version": "3.8.2"
  },
  "vscode": {
   "interpreter": {
    "hash": "31f2aee4e71d21fbe5cf8b01ff0e069b9275f58929596ceb00d14d90e3e16cd6"
   }
  }
 },
 "nbformat": 4,
 "nbformat_minor": 5
}
